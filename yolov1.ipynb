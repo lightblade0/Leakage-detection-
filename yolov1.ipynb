{
 "cells": [
  {
   "cell_type": "code",
   "execution_count": 1,
   "id": "abb6ba2f",
   "metadata": {
    "execution": {
     "iopub.execute_input": "2024-12-15T08:28:53.689594Z",
     "iopub.status.busy": "2024-12-15T08:28:53.689339Z",
     "iopub.status.idle": "2024-12-15T08:29:08.050512Z",
     "shell.execute_reply": "2024-12-15T08:29:08.049650Z"
    },
    "executionInfo": {
     "elapsed": 5830,
     "status": "ok",
     "timestamp": 1733919593234,
     "user": {
      "displayName": "Tejas Bhosale",
      "userId": "01004926012203279502"
     },
     "user_tz": -330
    },
    "id": "IWDUfu-iwjGN",
    "outputId": "d5479f5a-5ad1-4a12-816e-cf3aea2deb2c",
    "papermill": {
     "duration": 14.366101,
     "end_time": "2024-12-15T08:29:08.052331",
     "exception": false,
     "start_time": "2024-12-15T08:28:53.686230",
     "status": "completed"
    },
    "tags": []
   },
   "outputs": [
    {
     "name": "stdout",
     "output_type": "stream",
     "text": [
      "Ultralytics 8.3.49 🚀 Python-3.10.14 torch-2.4.0 CUDA:0 (Tesla T4, 15095MiB)\n",
      "Setup complete ✅ (4 CPUs, 31.4 GB RAM, 6013.4/8062.4 GB disk)\n"
     ]
    }
   ],
   "source": [
    "!pip install ultralytics\n",
    "\n",
    "import ultralytics\n",
    "\n",
    "ultralytics.checks()\n",
    "\n",
    "from ultralytics import YOLO"
   ]
  },
  {
   "cell_type": "code",
   "execution_count": 2,
   "id": "7781a1dd",
   "metadata": {
    "execution": {
     "iopub.execute_input": "2024-12-15T08:29:08.057443Z",
     "iopub.status.busy": "2024-12-15T08:29:08.057100Z",
     "iopub.status.idle": "2024-12-15T11:46:46.796758Z",
     "shell.execute_reply": "2024-12-15T11:46:46.795681Z"
    },
    "id": "K7pJ_7XY5DL9",
    "outputId": "baa14a76-995c-4709-d6bf-79fd7ef4b29f",
    "papermill": {
     "duration": 11861.086209,
     "end_time": "2024-12-15T11:46:49.140606",
     "exception": false,
     "start_time": "2024-12-15T08:29:08.054397",
     "status": "completed"
    },
    "tags": []
   },
   "outputs": [
    {
     "name": "stdout",
     "output_type": "stream",
     "text": [
      "Downloading https://github.com/ultralytics/assets/releases/download/v8.3.0/yolov10n.pt to 'yolov10n.pt'...\n"
     ]
    },
    {
     "name": "stderr",
     "output_type": "stream",
     "text": [
      "100%|██████████| 5.59M/5.59M [00:00<00:00, 78.4MB/s]\n"
     ]
    },
    {
     "name": "stdout",
     "output_type": "stream",
     "text": [
      "Ultralytics 8.3.49 🚀 Python-3.10.14 torch-2.4.0 CUDA:0 (Tesla T4, 15095MiB)\n",
      "\u001b[34m\u001b[1mengine/trainer: \u001b[0mtask=detect, mode=train, model=yolov10n.pt, data=/kaggle/input/bubbledataset/data.yaml, epochs=20, time=None, patience=10, batch=16, imgsz=640, save=True, save_period=-1, cache=False, device=None, workers=8, project=None, name=train, exist_ok=False, pretrained=True, optimizer=auto, verbose=True, seed=0, deterministic=True, single_cls=False, rect=False, cos_lr=False, close_mosaic=10, resume=False, amp=True, fraction=1.0, profile=False, freeze=None, multi_scale=False, overlap_mask=True, mask_ratio=4, dropout=0.0, val=True, split=val, save_json=False, save_hybrid=False, conf=None, iou=0.7, max_det=300, half=False, dnn=False, plots=True, source=None, vid_stride=1, stream_buffer=False, visualize=False, augment=False, agnostic_nms=False, classes=None, retina_masks=False, embed=None, show=False, save_frames=False, save_txt=False, save_conf=False, save_crop=False, show_labels=True, show_conf=True, show_boxes=True, line_width=None, format=torchscript, keras=False, optimize=False, int8=False, dynamic=False, simplify=True, opset=None, workspace=None, nms=False, lr0=0.01, lrf=0.01, momentum=0.937, weight_decay=0.0005, warmup_epochs=3.0, warmup_momentum=0.8, warmup_bias_lr=0.1, box=7.5, cls=0.5, dfl=1.5, pose=12.0, kobj=1.0, nbs=64, hsv_h=0.015, hsv_s=0.7, hsv_v=0.4, degrees=0.0, translate=0.1, scale=0.5, shear=0.0, perspective=0.0, flipud=0.0, fliplr=0.5, bgr=0.0, mosaic=1.0, mixup=0.0, copy_paste=0.0, copy_paste_mode=flip, auto_augment=randaugment, erasing=0.4, crop_fraction=1.0, cfg=None, tracker=botsort.yaml, save_dir=runs/detect/train\n",
      "Downloading https://ultralytics.com/assets/Arial.ttf to '/root/.config/Ultralytics/Arial.ttf'...\n"
     ]
    },
    {
     "name": "stderr",
     "output_type": "stream",
     "text": [
      "100%|██████████| 755k/755k [00:00<00:00, 17.4MB/s]\n"
     ]
    },
    {
     "name": "stdout",
     "output_type": "stream",
     "text": [
      "Overriding model.yaml nc=80 with nc=1\n",
      "\n",
      "                   from  n    params  module                                       arguments                     \n",
      "  0                  -1  1       464  ultralytics.nn.modules.conv.Conv             [3, 16, 3, 2]                 \n",
      "  1                  -1  1      4672  ultralytics.nn.modules.conv.Conv             [16, 32, 3, 2]                \n",
      "  2                  -1  1      7360  ultralytics.nn.modules.block.C2f             [32, 32, 1, True]             \n",
      "  3                  -1  1     18560  ultralytics.nn.modules.conv.Conv             [32, 64, 3, 2]                \n",
      "  4                  -1  2     49664  ultralytics.nn.modules.block.C2f             [64, 64, 2, True]             \n",
      "  5                  -1  1      9856  ultralytics.nn.modules.block.SCDown          [64, 128, 3, 2]               \n",
      "  6                  -1  2    197632  ultralytics.nn.modules.block.C2f             [128, 128, 2, True]           \n",
      "  7                  -1  1     36096  ultralytics.nn.modules.block.SCDown          [128, 256, 3, 2]              \n",
      "  8                  -1  1    460288  ultralytics.nn.modules.block.C2f             [256, 256, 1, True]           \n",
      "  9                  -1  1    164608  ultralytics.nn.modules.block.SPPF            [256, 256, 5]                 \n",
      " 10                  -1  1    249728  ultralytics.nn.modules.block.PSA             [256, 256]                    \n",
      " 11                  -1  1         0  torch.nn.modules.upsampling.Upsample         [None, 2, 'nearest']          \n",
      " 12             [-1, 6]  1         0  ultralytics.nn.modules.conv.Concat           [1]                           \n",
      " 13                  -1  1    148224  ultralytics.nn.modules.block.C2f             [384, 128, 1]                 \n",
      " 14                  -1  1         0  torch.nn.modules.upsampling.Upsample         [None, 2, 'nearest']          \n",
      " 15             [-1, 4]  1         0  ultralytics.nn.modules.conv.Concat           [1]                           \n",
      " 16                  -1  1     37248  ultralytics.nn.modules.block.C2f             [192, 64, 1]                  \n",
      " 17                  -1  1     36992  ultralytics.nn.modules.conv.Conv             [64, 64, 3, 2]                \n",
      " 18            [-1, 13]  1         0  ultralytics.nn.modules.conv.Concat           [1]                           \n",
      " 19                  -1  1    123648  ultralytics.nn.modules.block.C2f             [192, 128, 1]                 \n",
      " 20                  -1  1     18048  ultralytics.nn.modules.block.SCDown          [128, 128, 3, 2]              \n",
      " 21            [-1, 10]  1         0  ultralytics.nn.modules.conv.Concat           [1]                           \n",
      " 22                  -1  1    282624  ultralytics.nn.modules.block.C2fCIB          [384, 256, 1, True, True]     \n",
      " 23        [16, 19, 22]  1    861718  ultralytics.nn.modules.head.v10Detect        [1, [64, 128, 256]]           \n",
      "YOLOv10n summary: 385 layers, 2,707,430 parameters, 2,707,414 gradients, 8.4 GFLOPs\n",
      "\n",
      "Transferred 493/595 items from pretrained weights\n",
      "\u001b[34m\u001b[1mTensorBoard: \u001b[0mStart with 'tensorboard --logdir runs/detect/train', view at http://localhost:6006/\n",
      "Freezing layer 'model.23.dfl.conv.weight'\n",
      "\u001b[34m\u001b[1mAMP: \u001b[0mrunning Automatic Mixed Precision (AMP) checks...\n",
      "Downloading https://github.com/ultralytics/assets/releases/download/v8.3.0/yolo11n.pt to 'yolo11n.pt'...\n"
     ]
    },
    {
     "name": "stderr",
     "output_type": "stream",
     "text": [
      "100%|██████████| 5.35M/5.35M [00:00<00:00, 74.8MB/s]\n"
     ]
    },
    {
     "name": "stdout",
     "output_type": "stream",
     "text": [
      "\u001b[34m\u001b[1mAMP: \u001b[0mchecks passed ✅\n"
     ]
    },
    {
     "name": "stderr",
     "output_type": "stream",
     "text": [
      "\u001b[34m\u001b[1mtrain: \u001b[0mScanning /kaggle/input/bubbledataset/train/labels... 31104 images, 1101 backgrounds, 0 corrupt: 100%|██████████| 31104/31104 [02:18<00:00, 224.33it/s]\n"
     ]
    },
    {
     "name": "stdout",
     "output_type": "stream",
     "text": [
      "\u001b[34m\u001b[1mtrain: \u001b[0mWARNING ⚠️ Cache directory /kaggle/input/bubbledataset/train is not writeable, cache not saved.\n",
      "\u001b[34m\u001b[1malbumentations: \u001b[0mBlur(p=0.01, blur_limit=(3, 7)), MedianBlur(p=0.01, blur_limit=(3, 7)), ToGray(p=0.01, num_output_channels=3, method='weighted_average'), CLAHE(p=0.01, clip_limit=(1.0, 4.0), tile_grid_size=(8, 8))\n"
     ]
    },
    {
     "name": "stderr",
     "output_type": "stream",
     "text": [
      "/opt/conda/lib/python3.10/site-packages/albumentations/__init__.py:24: UserWarning: A new version of Albumentations is available: 1.4.22 (you have 1.4.21). Upgrade using: pip install -U albumentations. To disable automatic update checks, set the environment variable NO_ALBUMENTATIONS_UPDATE to 1.\n",
      "  check_for_updates()\n",
      "/opt/conda/lib/python3.10/multiprocessing/popen_fork.py:66: RuntimeWarning: os.fork() was called. os.fork() is incompatible with multithreaded code, and JAX is multithreaded, so this will likely lead to a deadlock.\n",
      "  self.pid = os.fork()\n",
      "\u001b[34m\u001b[1mval: \u001b[0mScanning /kaggle/input/bubbledataset/valid/labels... 300 images, 0 backgrounds, 0 corrupt: 100%|██████████| 300/300 [00:01<00:00, 218.08it/s]"
     ]
    },
    {
     "name": "stdout",
     "output_type": "stream",
     "text": [
      "\u001b[34m\u001b[1mval: \u001b[0mWARNING ⚠️ Cache directory /kaggle/input/bubbledataset/valid is not writeable, cache not saved.\n"
     ]
    },
    {
     "name": "stderr",
     "output_type": "stream",
     "text": [
      "\n"
     ]
    },
    {
     "name": "stdout",
     "output_type": "stream",
     "text": [
      "Plotting labels to runs/detect/train/labels.jpg... \n",
      "\u001b[34m\u001b[1moptimizer:\u001b[0m 'optimizer=auto' found, ignoring 'lr0=0.01' and 'momentum=0.937' and determining best 'optimizer', 'lr0' and 'momentum' automatically... \n",
      "\u001b[34m\u001b[1moptimizer:\u001b[0m AdamW(lr=0.002, momentum=0.9) with parameter groups 95 weight(decay=0.0), 108 weight(decay=0.0005), 107 bias(decay=0.0)\n",
      "\u001b[34m\u001b[1mTensorBoard: \u001b[0mmodel graph visualization added ✅\n",
      "Image sizes 640 train, 640 val\n",
      "Using 2 dataloader workers\n",
      "Logging results to \u001b[1mruns/detect/train\u001b[0m\n",
      "Starting training for 20 epochs...\n",
      "\n",
      "      Epoch    GPU_mem   box_loss   cls_loss   dfl_loss  Instances       Size\n"
     ]
    },
    {
     "name": "stderr",
     "output_type": "stream",
     "text": [
      "       1/20      10.3G      1.559      1.595      1.637       1885        640: 100%|██████████| 1944/1944 [10:55<00:00,  2.97it/s]\n",
      "                 Class     Images  Instances      Box(P          R      mAP50  mAP50-95): 100%|██████████| 10/10 [00:03<00:00,  2.98it/s]"
     ]
    },
    {
     "name": "stdout",
     "output_type": "stream",
     "text": [
      "                   all        300       2891      0.891      0.878      0.946      0.583\n"
     ]
    },
    {
     "name": "stderr",
     "output_type": "stream",
     "text": [
      "\n"
     ]
    },
    {
     "name": "stdout",
     "output_type": "stream",
     "text": [
      "\n",
      "      Epoch    GPU_mem   box_loss   cls_loss   dfl_loss  Instances       Size\n"
     ]
    },
    {
     "name": "stderr",
     "output_type": "stream",
     "text": [
      "       2/20      8.94G       1.35     0.9538      1.608       2087        640: 100%|██████████| 1944/1944 [10:33<00:00,  3.07it/s]\n",
      "                 Class     Images  Instances      Box(P          R      mAP50  mAP50-95): 100%|██████████| 10/10 [00:02<00:00,  4.41it/s]"
     ]
    },
    {
     "name": "stdout",
     "output_type": "stream",
     "text": [
      "                   all        300       2891      0.931       0.86      0.952      0.634\n"
     ]
    },
    {
     "name": "stderr",
     "output_type": "stream",
     "text": [
      "\n"
     ]
    },
    {
     "name": "stdout",
     "output_type": "stream",
     "text": [
      "\n",
      "      Epoch    GPU_mem   box_loss   cls_loss   dfl_loss  Instances       Size\n"
     ]
    },
    {
     "name": "stderr",
     "output_type": "stream",
     "text": [
      "       3/20      8.47G      1.325     0.9042      1.604       1652        640: 100%|██████████| 1944/1944 [10:29<00:00,  3.09it/s]\n",
      "                 Class     Images  Instances      Box(P          R      mAP50  mAP50-95): 100%|██████████| 10/10 [00:02<00:00,  4.41it/s]"
     ]
    },
    {
     "name": "stdout",
     "output_type": "stream",
     "text": [
      "                   all        300       2891      0.936      0.918      0.966      0.628\n"
     ]
    },
    {
     "name": "stderr",
     "output_type": "stream",
     "text": [
      "\n"
     ]
    },
    {
     "name": "stdout",
     "output_type": "stream",
     "text": [
      "\n",
      "      Epoch    GPU_mem   box_loss   cls_loss   dfl_loss  Instances       Size\n"
     ]
    },
    {
     "name": "stderr",
     "output_type": "stream",
     "text": [
      "       4/20      9.49G      1.289     0.8697      1.599       1671        640: 100%|██████████| 1944/1944 [10:26<00:00,  3.10it/s]\n",
      "                 Class     Images  Instances      Box(P          R      mAP50  mAP50-95): 100%|██████████| 10/10 [00:02<00:00,  4.25it/s]"
     ]
    },
    {
     "name": "stdout",
     "output_type": "stream",
     "text": [
      "                   all        300       2891       0.94       0.91      0.972      0.675\n"
     ]
    },
    {
     "name": "stderr",
     "output_type": "stream",
     "text": [
      "\n"
     ]
    },
    {
     "name": "stdout",
     "output_type": "stream",
     "text": [
      "\n",
      "      Epoch    GPU_mem   box_loss   cls_loss   dfl_loss  Instances       Size\n"
     ]
    },
    {
     "name": "stderr",
     "output_type": "stream",
     "text": [
      "       5/20      13.5G      1.248     0.8402      1.595       2005        640: 100%|██████████| 1944/1944 [10:26<00:00,  3.10it/s]\n",
      "                 Class     Images  Instances      Box(P          R      mAP50  mAP50-95): 100%|██████████| 10/10 [00:02<00:00,  4.37it/s]"
     ]
    },
    {
     "name": "stdout",
     "output_type": "stream",
     "text": [
      "                   all        300       2891      0.943      0.912      0.967      0.647\n"
     ]
    },
    {
     "name": "stderr",
     "output_type": "stream",
     "text": [
      "\n"
     ]
    },
    {
     "name": "stdout",
     "output_type": "stream",
     "text": [
      "\n",
      "      Epoch    GPU_mem   box_loss   cls_loss   dfl_loss  Instances       Size\n"
     ]
    },
    {
     "name": "stderr",
     "output_type": "stream",
     "text": [
      "       6/20      11.9G      1.215     0.8221      1.592       1929        640: 100%|██████████| 1944/1944 [10:27<00:00,  3.10it/s]\n",
      "                 Class     Images  Instances      Box(P          R      mAP50  mAP50-95): 100%|██████████| 10/10 [00:02<00:00,  4.13it/s]"
     ]
    },
    {
     "name": "stdout",
     "output_type": "stream",
     "text": [
      "                   all        300       2891      0.953      0.927      0.974      0.674\n"
     ]
    },
    {
     "name": "stderr",
     "output_type": "stream",
     "text": [
      "\n"
     ]
    },
    {
     "name": "stdout",
     "output_type": "stream",
     "text": [
      "\n",
      "      Epoch    GPU_mem   box_loss   cls_loss   dfl_loss  Instances       Size\n"
     ]
    },
    {
     "name": "stderr",
     "output_type": "stream",
     "text": [
      "       7/20      13.3G      1.191     0.8047       1.59       2278        640: 100%|██████████| 1944/1944 [10:29<00:00,  3.09it/s]\n",
      "                 Class     Images  Instances      Box(P          R      mAP50  mAP50-95): 100%|██████████| 10/10 [00:02<00:00,  4.45it/s]"
     ]
    },
    {
     "name": "stdout",
     "output_type": "stream",
     "text": [
      "                   all        300       2891      0.954      0.927      0.972      0.677\n"
     ]
    },
    {
     "name": "stderr",
     "output_type": "stream",
     "text": [
      "\n"
     ]
    },
    {
     "name": "stdout",
     "output_type": "stream",
     "text": [
      "\n",
      "      Epoch    GPU_mem   box_loss   cls_loss   dfl_loss  Instances       Size\n"
     ]
    },
    {
     "name": "stderr",
     "output_type": "stream",
     "text": [
      "       8/20      10.4G      1.172     0.7933      1.588       1301        640: 100%|██████████| 1944/1944 [10:28<00:00,  3.10it/s]\n",
      "                 Class     Images  Instances      Box(P          R      mAP50  mAP50-95): 100%|██████████| 10/10 [00:02<00:00,  4.40it/s]"
     ]
    },
    {
     "name": "stdout",
     "output_type": "stream",
     "text": [
      "                   all        300       2891      0.954      0.919      0.974      0.678\n"
     ]
    },
    {
     "name": "stderr",
     "output_type": "stream",
     "text": [
      "\n"
     ]
    },
    {
     "name": "stdout",
     "output_type": "stream",
     "text": [
      "\n",
      "      Epoch    GPU_mem   box_loss   cls_loss   dfl_loss  Instances       Size\n"
     ]
    },
    {
     "name": "stderr",
     "output_type": "stream",
     "text": [
      "       9/20      11.1G      1.154     0.7805      1.586       1640        640: 100%|██████████| 1944/1944 [10:24<00:00,  3.11it/s]\n",
      "                 Class     Images  Instances      Box(P          R      mAP50  mAP50-95): 100%|██████████| 10/10 [00:02<00:00,  4.41it/s]"
     ]
    },
    {
     "name": "stdout",
     "output_type": "stream",
     "text": [
      "                   all        300       2891      0.958      0.928      0.972      0.666\n"
     ]
    },
    {
     "name": "stderr",
     "output_type": "stream",
     "text": [
      "\n"
     ]
    },
    {
     "name": "stdout",
     "output_type": "stream",
     "text": [
      "\n",
      "      Epoch    GPU_mem   box_loss   cls_loss   dfl_loss  Instances       Size\n"
     ]
    },
    {
     "name": "stderr",
     "output_type": "stream",
     "text": [
      "      10/20      5.26G      1.143     0.7728      1.585       1553        640: 100%|██████████| 1944/1944 [10:26<00:00,  3.10it/s]\n",
      "                 Class     Images  Instances      Box(P          R      mAP50  mAP50-95): 100%|██████████| 10/10 [00:02<00:00,  4.46it/s]"
     ]
    },
    {
     "name": "stdout",
     "output_type": "stream",
     "text": [
      "                   all        300       2891      0.964      0.932       0.98      0.686\n"
     ]
    },
    {
     "name": "stderr",
     "output_type": "stream",
     "text": [
      "\n"
     ]
    },
    {
     "name": "stdout",
     "output_type": "stream",
     "text": [
      "Closing dataloader mosaic\n",
      "\u001b[34m\u001b[1malbumentations: \u001b[0mBlur(p=0.01, blur_limit=(3, 7)), MedianBlur(p=0.01, blur_limit=(3, 7)), ToGray(p=0.01, num_output_channels=3, method='weighted_average'), CLAHE(p=0.01, clip_limit=(1.0, 4.0), tile_grid_size=(8, 8))\n"
     ]
    },
    {
     "name": "stderr",
     "output_type": "stream",
     "text": [
      "/opt/conda/lib/python3.10/multiprocessing/popen_fork.py:66: RuntimeWarning: os.fork() was called. os.fork() is incompatible with multithreaded code, and JAX is multithreaded, so this will likely lead to a deadlock.\n",
      "  self.pid = os.fork()\n",
      "/opt/conda/lib/python3.10/multiprocessing/popen_fork.py:66: RuntimeWarning: os.fork() was called. os.fork() is incompatible with multithreaded code, and JAX is multithreaded, so this will likely lead to a deadlock.\n",
      "  self.pid = os.fork()\n"
     ]
    },
    {
     "name": "stdout",
     "output_type": "stream",
     "text": [
      "\n",
      "      Epoch    GPU_mem   box_loss   cls_loss   dfl_loss  Instances       Size\n"
     ]
    },
    {
     "name": "stderr",
     "output_type": "stream",
     "text": [
      "      11/20      4.76G      1.109      0.745      1.581        974        640: 100%|██████████| 1944/1944 [08:37<00:00,  3.75it/s]\n",
      "                 Class     Images  Instances      Box(P          R      mAP50  mAP50-95): 100%|██████████| 10/10 [00:02<00:00,  4.46it/s]"
     ]
    },
    {
     "name": "stdout",
     "output_type": "stream",
     "text": [
      "                   all        300       2891      0.964       0.92      0.976      0.686\n"
     ]
    },
    {
     "name": "stderr",
     "output_type": "stream",
     "text": [
      "\n"
     ]
    },
    {
     "name": "stdout",
     "output_type": "stream",
     "text": [
      "\n",
      "      Epoch    GPU_mem   box_loss   cls_loss   dfl_loss  Instances       Size\n"
     ]
    },
    {
     "name": "stderr",
     "output_type": "stream",
     "text": [
      "      12/20      6.86G      1.092     0.7309      1.579        989        640: 100%|██████████| 1944/1944 [08:37<00:00,  3.76it/s]\n",
      "                 Class     Images  Instances      Box(P          R      mAP50  mAP50-95): 100%|██████████| 10/10 [00:02<00:00,  4.41it/s]"
     ]
    },
    {
     "name": "stdout",
     "output_type": "stream",
     "text": [
      "                   all        300       2891      0.959      0.925      0.976      0.697\n"
     ]
    },
    {
     "name": "stderr",
     "output_type": "stream",
     "text": [
      "\n"
     ]
    },
    {
     "name": "stdout",
     "output_type": "stream",
     "text": [
      "\n",
      "      Epoch    GPU_mem   box_loss   cls_loss   dfl_loss  Instances       Size\n"
     ]
    },
    {
     "name": "stderr",
     "output_type": "stream",
     "text": [
      "      13/20      5.56G      1.082     0.7228      1.578       1297        640: 100%|██████████| 1944/1944 [08:38<00:00,  3.75it/s]\n",
      "                 Class     Images  Instances      Box(P          R      mAP50  mAP50-95): 100%|██████████| 10/10 [00:02<00:00,  4.44it/s]"
     ]
    },
    {
     "name": "stdout",
     "output_type": "stream",
     "text": [
      "                   all        300       2891      0.972      0.934       0.98      0.689\n"
     ]
    },
    {
     "name": "stderr",
     "output_type": "stream",
     "text": [
      "\n"
     ]
    },
    {
     "name": "stdout",
     "output_type": "stream",
     "text": [
      "\n",
      "      Epoch    GPU_mem   box_loss   cls_loss   dfl_loss  Instances       Size\n"
     ]
    },
    {
     "name": "stderr",
     "output_type": "stream",
     "text": [
      "      14/20      7.95G      1.075     0.7166      1.576        813        640: 100%|██████████| 1944/1944 [08:38<00:00,  3.75it/s]\n",
      "                 Class     Images  Instances      Box(P          R      mAP50  mAP50-95): 100%|██████████| 10/10 [00:02<00:00,  4.46it/s]"
     ]
    },
    {
     "name": "stdout",
     "output_type": "stream",
     "text": [
      "                   all        300       2891      0.969      0.936      0.981      0.699\n"
     ]
    },
    {
     "name": "stderr",
     "output_type": "stream",
     "text": [
      "\n"
     ]
    },
    {
     "name": "stdout",
     "output_type": "stream",
     "text": [
      "\n",
      "      Epoch    GPU_mem   box_loss   cls_loss   dfl_loss  Instances       Size\n"
     ]
    },
    {
     "name": "stderr",
     "output_type": "stream",
     "text": [
      "      15/20      5.91G      1.064     0.7092      1.575        778        640: 100%|██████████| 1944/1944 [08:38<00:00,  3.75it/s]\n",
      "                 Class     Images  Instances      Box(P          R      mAP50  mAP50-95): 100%|██████████| 10/10 [00:02<00:00,  4.31it/s]"
     ]
    },
    {
     "name": "stdout",
     "output_type": "stream",
     "text": [
      "                   all        300       2891      0.966      0.941      0.981      0.696\n"
     ]
    },
    {
     "name": "stderr",
     "output_type": "stream",
     "text": [
      "\n"
     ]
    },
    {
     "name": "stdout",
     "output_type": "stream",
     "text": [
      "\n",
      "      Epoch    GPU_mem   box_loss   cls_loss   dfl_loss  Instances       Size\n"
     ]
    },
    {
     "name": "stderr",
     "output_type": "stream",
     "text": [
      "      16/20      6.87G      1.057     0.7038      1.574       1068        640: 100%|██████████| 1944/1944 [08:38<00:00,  3.75it/s]\n",
      "                 Class     Images  Instances      Box(P          R      mAP50  mAP50-95): 100%|██████████| 10/10 [00:02<00:00,  4.33it/s]"
     ]
    },
    {
     "name": "stdout",
     "output_type": "stream",
     "text": [
      "                   all        300       2891      0.976       0.94      0.984        0.7\n"
     ]
    },
    {
     "name": "stderr",
     "output_type": "stream",
     "text": [
      "\n"
     ]
    },
    {
     "name": "stdout",
     "output_type": "stream",
     "text": [
      "\n",
      "      Epoch    GPU_mem   box_loss   cls_loss   dfl_loss  Instances       Size\n"
     ]
    },
    {
     "name": "stderr",
     "output_type": "stream",
     "text": [
      "      17/20      6.98G      1.049     0.6964      1.573       1109        640: 100%|██████████| 1944/1944 [08:37<00:00,  3.75it/s]\n",
      "                 Class     Images  Instances      Box(P          R      mAP50  mAP50-95): 100%|██████████| 10/10 [00:02<00:00,  4.47it/s]"
     ]
    },
    {
     "name": "stdout",
     "output_type": "stream",
     "text": [
      "                   all        300       2891      0.967      0.938      0.983      0.693\n"
     ]
    },
    {
     "name": "stderr",
     "output_type": "stream",
     "text": [
      "\n"
     ]
    },
    {
     "name": "stdout",
     "output_type": "stream",
     "text": [
      "\n",
      "      Epoch    GPU_mem   box_loss   cls_loss   dfl_loss  Instances       Size\n"
     ]
    },
    {
     "name": "stderr",
     "output_type": "stream",
     "text": [
      "      18/20      7.56G      1.042     0.6902      1.573        907        640: 100%|██████████| 1944/1944 [08:38<00:00,  3.75it/s]\n",
      "                 Class     Images  Instances      Box(P          R      mAP50  mAP50-95): 100%|██████████| 10/10 [00:02<00:00,  4.40it/s]"
     ]
    },
    {
     "name": "stdout",
     "output_type": "stream",
     "text": [
      "                   all        300       2891      0.971       0.94      0.983      0.688\n"
     ]
    },
    {
     "name": "stderr",
     "output_type": "stream",
     "text": [
      "\n"
     ]
    },
    {
     "name": "stdout",
     "output_type": "stream",
     "text": [
      "\n",
      "      Epoch    GPU_mem   box_loss   cls_loss   dfl_loss  Instances       Size\n"
     ]
    },
    {
     "name": "stderr",
     "output_type": "stream",
     "text": [
      "      19/20      6.78G      1.035     0.6837      1.572       1002        640: 100%|██████████| 1944/1944 [08:37<00:00,  3.75it/s]\n",
      "                 Class     Images  Instances      Box(P          R      mAP50  mAP50-95): 100%|██████████| 10/10 [00:02<00:00,  4.35it/s]"
     ]
    },
    {
     "name": "stdout",
     "output_type": "stream",
     "text": [
      "                   all        300       2891      0.973      0.942      0.984       0.69\n"
     ]
    },
    {
     "name": "stderr",
     "output_type": "stream",
     "text": [
      "\n"
     ]
    },
    {
     "name": "stdout",
     "output_type": "stream",
     "text": [
      "\n",
      "      Epoch    GPU_mem   box_loss   cls_loss   dfl_loss  Instances       Size\n"
     ]
    },
    {
     "name": "stderr",
     "output_type": "stream",
     "text": [
      "      20/20      5.67G      1.028     0.6777      1.571        962        640: 100%|██████████| 1944/1944 [08:38<00:00,  3.75it/s]\n",
      "                 Class     Images  Instances      Box(P          R      mAP50  mAP50-95): 100%|██████████| 10/10 [00:02<00:00,  4.54it/s]"
     ]
    },
    {
     "name": "stdout",
     "output_type": "stream",
     "text": [
      "                   all        300       2891      0.971      0.944      0.984      0.693\n"
     ]
    },
    {
     "name": "stderr",
     "output_type": "stream",
     "text": [
      "\n"
     ]
    },
    {
     "name": "stdout",
     "output_type": "stream",
     "text": [
      "\n",
      "20 epochs completed in 3.218 hours.\n",
      "Optimizer stripped from runs/detect/train/weights/last.pt, 5.8MB\n",
      "Optimizer stripped from runs/detect/train/weights/best.pt, 5.8MB\n",
      "\n",
      "Validating runs/detect/train/weights/best.pt...\n",
      "Ultralytics 8.3.49 🚀 Python-3.10.14 torch-2.4.0 CUDA:0 (Tesla T4, 15095MiB)\n",
      "YOLOv10n summary (fused): 285 layers, 2,694,806 parameters, 0 gradients, 8.2 GFLOPs\n"
     ]
    },
    {
     "name": "stderr",
     "output_type": "stream",
     "text": [
      "                 Class     Images  Instances      Box(P          R      mAP50  mAP50-95): 100%|██████████| 10/10 [00:03<00:00,  2.75it/s]\n"
     ]
    },
    {
     "name": "stdout",
     "output_type": "stream",
     "text": [
      "                   all        300       2891      0.976      0.939      0.983        0.7\n",
      "Speed: 0.2ms preprocess, 3.2ms inference, 0.0ms loss, 0.4ms postprocess per image\n",
      "Results saved to \u001b[1mruns/detect/train\u001b[0m\n"
     ]
    }
   ],
   "source": [
    "model = YOLO('yolov10n.pt')  # You can use other model sizes like yolov8s.pt for small, yolov8m.pt for medium, etc.\n",
    "\n",
    "\n",
    "# Train the model\n",
    "\n",
    "results = model.train(data='/kaggle/input/bubbledataset/data.yaml', epochs=20, imgsz=640, batch=16,patience=10)"
   ]
  },
  {
   "cell_type": "code",
   "execution_count": 3,
   "id": "e40d26a7",
   "metadata": {
    "execution": {
     "iopub.execute_input": "2024-12-15T11:46:57.032429Z",
     "iopub.status.busy": "2024-12-15T11:46:57.031629Z",
     "iopub.status.idle": "2024-12-15T11:47:05.371203Z",
     "shell.execute_reply": "2024-12-15T11:47:05.370239Z"
    },
    "executionInfo": {
     "elapsed": 13401,
     "status": "ok",
     "timestamp": 1733764519264,
     "user": {
      "displayName": "Tejas Bhosale",
      "userId": "01004926012203279502"
     },
     "user_tz": -330
    },
    "id": "NtEe5r8C-AqU",
    "outputId": "9b7581fc-2946-4e44-ffc8-57ae2d99e3fa",
    "papermill": {
     "duration": 12.241354,
     "end_time": "2024-12-15T11:47:05.373074",
     "exception": false,
     "start_time": "2024-12-15T11:46:53.131720",
     "status": "completed"
    },
    "tags": []
   },
   "outputs": [
    {
     "name": "stdout",
     "output_type": "stream",
     "text": [
      "Ultralytics 8.3.49 🚀 Python-3.10.14 torch-2.4.0 CUDA:0 (Tesla T4, 15095MiB)\n",
      "YOLOv10n summary (fused): 285 layers, 2,694,806 parameters, 0 gradients, 8.2 GFLOPs\n"
     ]
    },
    {
     "name": "stderr",
     "output_type": "stream",
     "text": [
      "\u001b[34m\u001b[1mval: \u001b[0mScanning /kaggle/input/bubbledataset/valid/labels... 300 images, 0 backgrounds, 0 corrupt: 100%|██████████| 300/300 [00:00<00:00, 677.09it/s]"
     ]
    },
    {
     "name": "stdout",
     "output_type": "stream",
     "text": [
      "\u001b[34m\u001b[1mval: \u001b[0mWARNING ⚠️ Cache directory /kaggle/input/bubbledataset/valid is not writeable, cache not saved.\n"
     ]
    },
    {
     "name": "stderr",
     "output_type": "stream",
     "text": [
      "\n",
      "/opt/conda/lib/python3.10/multiprocessing/popen_fork.py:66: RuntimeWarning: os.fork() was called. os.fork() is incompatible with multithreaded code, and JAX is multithreaded, so this will likely lead to a deadlock.\n",
      "  self.pid = os.fork()\n",
      "                 Class     Images  Instances      Box(P          R      mAP50  mAP50-95): 100%|██████████| 19/19 [00:04<00:00,  4.34it/s]\n"
     ]
    },
    {
     "name": "stdout",
     "output_type": "stream",
     "text": [
      "                   all        300       2891      0.977       0.94      0.985      0.701\n",
      "Speed: 0.2ms preprocess, 5.2ms inference, 0.0ms loss, 0.2ms postprocess per image\n",
      "Results saved to \u001b[1mruns/detect/train2\u001b[0m\n"
     ]
    }
   ],
   "source": [
    "results = model.val()"
   ]
  },
  {
   "cell_type": "code",
   "execution_count": 4,
   "id": "08e9abdb",
   "metadata": {
    "execution": {
     "iopub.execute_input": "2024-12-15T11:47:13.200925Z",
     "iopub.status.busy": "2024-12-15T11:47:13.200531Z",
     "iopub.status.idle": "2024-12-15T11:47:53.666544Z",
     "shell.execute_reply": "2024-12-15T11:47:53.665852Z"
    },
    "executionInfo": {
     "elapsed": 490,
     "status": "ok",
     "timestamp": 1733764646680,
     "user": {
      "displayName": "Tejas Bhosale",
      "userId": "01004926012203279502"
     },
     "user_tz": -330
    },
    "id": "XSpJrcXR-16B",
    "outputId": "6dd58378-791c-4ee1-d394-e0cc13d72b9a",
    "papermill": {
     "duration": 44.384025,
     "end_time": "2024-12-15T11:47:53.668022",
     "exception": false,
     "start_time": "2024-12-15T11:47:09.283997",
     "status": "completed"
    },
    "tags": []
   },
   "outputs": [
    {
     "name": "stdout",
     "output_type": "stream",
     "text": [
      "\n",
      "image 1/1 /kaggle/input/bubbledataset/test/images/10098.jpg: 640x480 24 bubbles, 42.7ms\n",
      "Speed: 2.0ms preprocess, 42.7ms inference, 0.6ms postprocess per image at shape (1, 3, 640, 480)\n",
      "Results saved to \u001b[1mruns/detect/predict\u001b[0m\n",
      "\n",
      "\n",
      "WARNING ⚠️ inference results will accumulate in RAM unless `stream=True` is passed, causing potential out-of-memory\n",
      "errors for large sources or long-running streams and videos. See https://docs.ultralytics.com/modes/predict/ for help.\n",
      "\n",
      "Example:\n",
      "    results = model(source=..., stream=True)  # generator of Results objects\n",
      "    for r in results:\n",
      "        boxes = r.boxes  # Boxes object for bbox outputs\n",
      "        masks = r.masks  # Masks object for segment masks outputs\n",
      "        probs = r.probs  # Class probabilities for classification outputs\n",
      "\n",
      "video 1/1 (frame 1/910) /kaggle/input/videotest/bubble1.mp4: 384x640 (no detections), 42.2ms\n",
      "video 1/1 (frame 2/910) /kaggle/input/videotest/bubble1.mp4: 384x640 (no detections), 10.5ms\n",
      "video 1/1 (frame 3/910) /kaggle/input/videotest/bubble1.mp4: 384x640 (no detections), 10.7ms\n",
      "video 1/1 (frame 4/910) /kaggle/input/videotest/bubble1.mp4: 384x640 (no detections), 10.2ms\n",
      "video 1/1 (frame 5/910) /kaggle/input/videotest/bubble1.mp4: 384x640 (no detections), 10.9ms\n",
      "video 1/1 (frame 6/910) /kaggle/input/videotest/bubble1.mp4: 384x640 (no detections), 10.4ms\n",
      "video 1/1 (frame 7/910) /kaggle/input/videotest/bubble1.mp4: 384x640 (no detections), 14.8ms\n",
      "video 1/1 (frame 8/910) /kaggle/input/videotest/bubble1.mp4: 384x640 (no detections), 10.1ms\n",
      "video 1/1 (frame 9/910) /kaggle/input/videotest/bubble1.mp4: 384x640 (no detections), 13.5ms\n",
      "video 1/1 (frame 10/910) /kaggle/input/videotest/bubble1.mp4: 384x640 (no detections), 10.8ms\n",
      "video 1/1 (frame 11/910) /kaggle/input/videotest/bubble1.mp4: 384x640 (no detections), 14.9ms\n",
      "video 1/1 (frame 12/910) /kaggle/input/videotest/bubble1.mp4: 384x640 (no detections), 11.0ms\n",
      "video 1/1 (frame 13/910) /kaggle/input/videotest/bubble1.mp4: 384x640 (no detections), 10.3ms\n",
      "video 1/1 (frame 14/910) /kaggle/input/videotest/bubble1.mp4: 384x640 (no detections), 10.1ms\n",
      "video 1/1 (frame 15/910) /kaggle/input/videotest/bubble1.mp4: 384x640 (no detections), 10.7ms\n",
      "video 1/1 (frame 16/910) /kaggle/input/videotest/bubble1.mp4: 384x640 (no detections), 10.4ms\n",
      "video 1/1 (frame 17/910) /kaggle/input/videotest/bubble1.mp4: 384x640 (no detections), 10.4ms\n",
      "video 1/1 (frame 18/910) /kaggle/input/videotest/bubble1.mp4: 384x640 (no detections), 10.3ms\n",
      "video 1/1 (frame 19/910) /kaggle/input/videotest/bubble1.mp4: 384x640 (no detections), 10.3ms\n",
      "video 1/1 (frame 20/910) /kaggle/input/videotest/bubble1.mp4: 384x640 (no detections), 10.2ms\n",
      "video 1/1 (frame 21/910) /kaggle/input/videotest/bubble1.mp4: 384x640 (no detections), 10.2ms\n",
      "video 1/1 (frame 22/910) /kaggle/input/videotest/bubble1.mp4: 384x640 (no detections), 10.3ms\n",
      "video 1/1 (frame 23/910) /kaggle/input/videotest/bubble1.mp4: 384x640 2 bubbles, 10.2ms\n",
      "video 1/1 (frame 24/910) /kaggle/input/videotest/bubble1.mp4: 384x640 2 bubbles, 10.7ms\n",
      "video 1/1 (frame 25/910) /kaggle/input/videotest/bubble1.mp4: 384x640 2 bubbles, 10.5ms\n",
      "video 1/1 (frame 26/910) /kaggle/input/videotest/bubble1.mp4: 384x640 2 bubbles, 10.6ms\n",
      "video 1/1 (frame 27/910) /kaggle/input/videotest/bubble1.mp4: 384x640 2 bubbles, 10.3ms\n",
      "video 1/1 (frame 28/910) /kaggle/input/videotest/bubble1.mp4: 384x640 2 bubbles, 10.3ms\n",
      "video 1/1 (frame 29/910) /kaggle/input/videotest/bubble1.mp4: 384x640 2 bubbles, 10.3ms\n",
      "video 1/1 (frame 30/910) /kaggle/input/videotest/bubble1.mp4: 384x640 2 bubbles, 10.3ms\n",
      "video 1/1 (frame 31/910) /kaggle/input/videotest/bubble1.mp4: 384x640 2 bubbles, 10.3ms\n",
      "video 1/1 (frame 32/910) /kaggle/input/videotest/bubble1.mp4: 384x640 2 bubbles, 10.4ms\n",
      "video 1/1 (frame 33/910) /kaggle/input/videotest/bubble1.mp4: 384x640 3 bubbles, 10.8ms\n",
      "video 1/1 (frame 34/910) /kaggle/input/videotest/bubble1.mp4: 384x640 3 bubbles, 10.3ms\n",
      "video 1/1 (frame 35/910) /kaggle/input/videotest/bubble1.mp4: 384x640 2 bubbles, 10.6ms\n",
      "video 1/1 (frame 36/910) /kaggle/input/videotest/bubble1.mp4: 384x640 2 bubbles, 10.5ms\n",
      "video 1/1 (frame 37/910) /kaggle/input/videotest/bubble1.mp4: 384x640 2 bubbles, 10.4ms\n",
      "video 1/1 (frame 38/910) /kaggle/input/videotest/bubble1.mp4: 384x640 2 bubbles, 13.0ms\n",
      "video 1/1 (frame 39/910) /kaggle/input/videotest/bubble1.mp4: 384x640 2 bubbles, 10.3ms\n",
      "video 1/1 (frame 40/910) /kaggle/input/videotest/bubble1.mp4: 384x640 2 bubbles, 10.7ms\n",
      "video 1/1 (frame 41/910) /kaggle/input/videotest/bubble1.mp4: 384x640 2 bubbles, 10.2ms\n",
      "video 1/1 (frame 42/910) /kaggle/input/videotest/bubble1.mp4: 384x640 2 bubbles, 10.3ms\n",
      "video 1/1 (frame 43/910) /kaggle/input/videotest/bubble1.mp4: 384x640 2 bubbles, 10.2ms\n",
      "video 1/1 (frame 44/910) /kaggle/input/videotest/bubble1.mp4: 384x640 2 bubbles, 10.4ms\n",
      "video 1/1 (frame 45/910) /kaggle/input/videotest/bubble1.mp4: 384x640 2 bubbles, 10.3ms\n",
      "video 1/1 (frame 46/910) /kaggle/input/videotest/bubble1.mp4: 384x640 2 bubbles, 10.3ms\n",
      "video 1/1 (frame 47/910) /kaggle/input/videotest/bubble1.mp4: 384x640 2 bubbles, 10.3ms\n",
      "video 1/1 (frame 48/910) /kaggle/input/videotest/bubble1.mp4: 384x640 2 bubbles, 13.6ms\n",
      "video 1/1 (frame 49/910) /kaggle/input/videotest/bubble1.mp4: 384x640 2 bubbles, 10.4ms\n",
      "video 1/1 (frame 50/910) /kaggle/input/videotest/bubble1.mp4: 384x640 2 bubbles, 10.4ms\n",
      "video 1/1 (frame 51/910) /kaggle/input/videotest/bubble1.mp4: 384x640 1 bubble, 10.4ms\n",
      "video 1/1 (frame 52/910) /kaggle/input/videotest/bubble1.mp4: 384x640 (no detections), 10.3ms\n",
      "video 1/1 (frame 53/910) /kaggle/input/videotest/bubble1.mp4: 384x640 1 bubble, 10.5ms\n",
      "video 1/1 (frame 54/910) /kaggle/input/videotest/bubble1.mp4: 384x640 2 bubbles, 11.1ms\n",
      "video 1/1 (frame 55/910) /kaggle/input/videotest/bubble1.mp4: 384x640 (no detections), 10.3ms\n",
      "video 1/1 (frame 56/910) /kaggle/input/videotest/bubble1.mp4: 384x640 (no detections), 13.0ms\n",
      "video 1/1 (frame 57/910) /kaggle/input/videotest/bubble1.mp4: 384x640 (no detections), 10.4ms\n",
      "video 1/1 (frame 58/910) /kaggle/input/videotest/bubble1.mp4: 384x640 2 bubbles, 10.7ms\n",
      "video 1/1 (frame 59/910) /kaggle/input/videotest/bubble1.mp4: 384x640 2 bubbles, 13.6ms\n",
      "video 1/1 (frame 60/910) /kaggle/input/videotest/bubble1.mp4: 384x640 2 bubbles, 10.4ms\n",
      "video 1/1 (frame 61/910) /kaggle/input/videotest/bubble1.mp4: 384x640 2 bubbles, 10.6ms\n",
      "video 1/1 (frame 62/910) /kaggle/input/videotest/bubble1.mp4: 384x640 2 bubbles, 10.4ms\n",
      "video 1/1 (frame 63/910) /kaggle/input/videotest/bubble1.mp4: 384x640 2 bubbles, 11.1ms\n",
      "video 1/1 (frame 64/910) /kaggle/input/videotest/bubble1.mp4: 384x640 2 bubbles, 10.3ms\n",
      "video 1/1 (frame 65/910) /kaggle/input/videotest/bubble1.mp4: 384x640 2 bubbles, 10.2ms\n",
      "video 1/1 (frame 66/910) /kaggle/input/videotest/bubble1.mp4: 384x640 2 bubbles, 10.3ms\n",
      "video 1/1 (frame 67/910) /kaggle/input/videotest/bubble1.mp4: 384x640 2 bubbles, 10.5ms\n",
      "video 1/1 (frame 68/910) /kaggle/input/videotest/bubble1.mp4: 384x640 2 bubbles, 10.7ms\n",
      "video 1/1 (frame 69/910) /kaggle/input/videotest/bubble1.mp4: 384x640 2 bubbles, 13.0ms\n",
      "video 1/1 (frame 70/910) /kaggle/input/videotest/bubble1.mp4: 384x640 2 bubbles, 10.4ms\n",
      "video 1/1 (frame 71/910) /kaggle/input/videotest/bubble1.mp4: 384x640 2 bubbles, 10.0ms\n",
      "video 1/1 (frame 72/910) /kaggle/input/videotest/bubble1.mp4: 384x640 2 bubbles, 10.3ms\n",
      "video 1/1 (frame 73/910) /kaggle/input/videotest/bubble1.mp4: 384x640 2 bubbles, 10.8ms\n",
      "video 1/1 (frame 74/910) /kaggle/input/videotest/bubble1.mp4: 384x640 2 bubbles, 10.2ms\n",
      "video 1/1 (frame 75/910) /kaggle/input/videotest/bubble1.mp4: 384x640 2 bubbles, 10.2ms\n",
      "video 1/1 (frame 76/910) /kaggle/input/videotest/bubble1.mp4: 384x640 2 bubbles, 10.7ms\n",
      "video 1/1 (frame 77/910) /kaggle/input/videotest/bubble1.mp4: 384x640 2 bubbles, 10.5ms\n",
      "video 1/1 (frame 78/910) /kaggle/input/videotest/bubble1.mp4: 384x640 2 bubbles, 10.8ms\n",
      "video 1/1 (frame 79/910) /kaggle/input/videotest/bubble1.mp4: 384x640 2 bubbles, 10.4ms\n",
      "video 1/1 (frame 80/910) /kaggle/input/videotest/bubble1.mp4: 384x640 2 bubbles, 10.8ms\n",
      "video 1/1 (frame 81/910) /kaggle/input/videotest/bubble1.mp4: 384x640 2 bubbles, 10.5ms\n",
      "video 1/1 (frame 82/910) /kaggle/input/videotest/bubble1.mp4: 384x640 2 bubbles, 10.6ms\n",
      "video 1/1 (frame 83/910) /kaggle/input/videotest/bubble1.mp4: 384x640 1 bubble, 10.3ms\n",
      "video 1/1 (frame 84/910) /kaggle/input/videotest/bubble1.mp4: 384x640 2 bubbles, 13.2ms\n",
      "video 1/1 (frame 85/910) /kaggle/input/videotest/bubble1.mp4: 384x640 2 bubbles, 10.3ms\n",
      "video 1/1 (frame 86/910) /kaggle/input/videotest/bubble1.mp4: 384x640 2 bubbles, 10.5ms\n",
      "video 1/1 (frame 87/910) /kaggle/input/videotest/bubble1.mp4: 384x640 1 bubble, 10.2ms\n",
      "video 1/1 (frame 88/910) /kaggle/input/videotest/bubble1.mp4: 384x640 2 bubbles, 11.2ms\n",
      "video 1/1 (frame 89/910) /kaggle/input/videotest/bubble1.mp4: 384x640 2 bubbles, 10.7ms\n",
      "video 1/1 (frame 90/910) /kaggle/input/videotest/bubble1.mp4: 384x640 2 bubbles, 10.5ms\n",
      "video 1/1 (frame 91/910) /kaggle/input/videotest/bubble1.mp4: 384x640 2 bubbles, 10.2ms\n",
      "video 1/1 (frame 92/910) /kaggle/input/videotest/bubble1.mp4: 384x640 2 bubbles, 10.5ms\n",
      "video 1/1 (frame 93/910) /kaggle/input/videotest/bubble1.mp4: 384x640 1 bubble, 13.2ms\n",
      "video 1/1 (frame 94/910) /kaggle/input/videotest/bubble1.mp4: 384x640 1 bubble, 12.9ms\n",
      "video 1/1 (frame 95/910) /kaggle/input/videotest/bubble1.mp4: 384x640 (no detections), 10.7ms\n",
      "video 1/1 (frame 96/910) /kaggle/input/videotest/bubble1.mp4: 384x640 (no detections), 11.6ms\n",
      "video 1/1 (frame 97/910) /kaggle/input/videotest/bubble1.mp4: 384x640 2 bubbles, 11.0ms\n",
      "video 1/1 (frame 98/910) /kaggle/input/videotest/bubble1.mp4: 384x640 2 bubbles, 10.2ms\n",
      "video 1/1 (frame 99/910) /kaggle/input/videotest/bubble1.mp4: 384x640 (no detections), 11.3ms\n",
      "video 1/1 (frame 100/910) /kaggle/input/videotest/bubble1.mp4: 384x640 2 bubbles, 13.5ms\n",
      "video 1/1 (frame 101/910) /kaggle/input/videotest/bubble1.mp4: 384x640 2 bubbles, 10.4ms\n",
      "video 1/1 (frame 102/910) /kaggle/input/videotest/bubble1.mp4: 384x640 (no detections), 10.2ms\n",
      "video 1/1 (frame 103/910) /kaggle/input/videotest/bubble1.mp4: 384x640 (no detections), 10.2ms\n",
      "video 1/1 (frame 104/910) /kaggle/input/videotest/bubble1.mp4: 384x640 (no detections), 12.9ms\n",
      "video 1/1 (frame 105/910) /kaggle/input/videotest/bubble1.mp4: 384x640 (no detections), 12.9ms\n",
      "video 1/1 (frame 106/910) /kaggle/input/videotest/bubble1.mp4: 384x640 (no detections), 10.7ms\n",
      "video 1/1 (frame 107/910) /kaggle/input/videotest/bubble1.mp4: 384x640 (no detections), 10.7ms\n",
      "video 1/1 (frame 108/910) /kaggle/input/videotest/bubble1.mp4: 384x640 (no detections), 13.1ms\n",
      "video 1/1 (frame 109/910) /kaggle/input/videotest/bubble1.mp4: 384x640 (no detections), 10.4ms\n",
      "video 1/1 (frame 110/910) /kaggle/input/videotest/bubble1.mp4: 384x640 (no detections), 11.0ms\n",
      "video 1/1 (frame 111/910) /kaggle/input/videotest/bubble1.mp4: 384x640 (no detections), 14.1ms\n",
      "video 1/1 (frame 112/910) /kaggle/input/videotest/bubble1.mp4: 384x640 (no detections), 11.6ms\n",
      "video 1/1 (frame 113/910) /kaggle/input/videotest/bubble1.mp4: 384x640 (no detections), 10.9ms\n",
      "video 1/1 (frame 114/910) /kaggle/input/videotest/bubble1.mp4: 384x640 (no detections), 10.4ms\n",
      "video 1/1 (frame 115/910) /kaggle/input/videotest/bubble1.mp4: 384x640 (no detections), 14.0ms\n",
      "video 1/1 (frame 116/910) /kaggle/input/videotest/bubble1.mp4: 384x640 (no detections), 10.4ms\n",
      "video 1/1 (frame 117/910) /kaggle/input/videotest/bubble1.mp4: 384x640 (no detections), 10.4ms\n",
      "video 1/1 (frame 118/910) /kaggle/input/videotest/bubble1.mp4: 384x640 (no detections), 10.4ms\n",
      "video 1/1 (frame 119/910) /kaggle/input/videotest/bubble1.mp4: 384x640 (no detections), 10.7ms\n",
      "video 1/1 (frame 120/910) /kaggle/input/videotest/bubble1.mp4: 384x640 (no detections), 10.3ms\n",
      "video 1/1 (frame 121/910) /kaggle/input/videotest/bubble1.mp4: 384x640 (no detections), 10.7ms\n",
      "video 1/1 (frame 122/910) /kaggle/input/videotest/bubble1.mp4: 384x640 (no detections), 14.8ms\n",
      "video 1/1 (frame 123/910) /kaggle/input/videotest/bubble1.mp4: 384x640 (no detections), 10.6ms\n",
      "video 1/1 (frame 124/910) /kaggle/input/videotest/bubble1.mp4: 384x640 (no detections), 10.6ms\n",
      "video 1/1 (frame 125/910) /kaggle/input/videotest/bubble1.mp4: 384x640 (no detections), 10.6ms\n",
      "video 1/1 (frame 126/910) /kaggle/input/videotest/bubble1.mp4: 384x640 (no detections), 13.9ms\n",
      "video 1/1 (frame 127/910) /kaggle/input/videotest/bubble1.mp4: 384x640 (no detections), 10.4ms\n",
      "video 1/1 (frame 128/910) /kaggle/input/videotest/bubble1.mp4: 384x640 (no detections), 10.6ms\n",
      "video 1/1 (frame 129/910) /kaggle/input/videotest/bubble1.mp4: 384x640 (no detections), 10.6ms\n",
      "video 1/1 (frame 130/910) /kaggle/input/videotest/bubble1.mp4: 384x640 (no detections), 10.5ms\n",
      "video 1/1 (frame 131/910) /kaggle/input/videotest/bubble1.mp4: 384x640 (no detections), 10.6ms\n",
      "video 1/1 (frame 132/910) /kaggle/input/videotest/bubble1.mp4: 384x640 (no detections), 10.4ms\n",
      "video 1/1 (frame 133/910) /kaggle/input/videotest/bubble1.mp4: 384x640 (no detections), 10.5ms\n",
      "video 1/1 (frame 134/910) /kaggle/input/videotest/bubble1.mp4: 384x640 (no detections), 10.3ms\n",
      "video 1/1 (frame 135/910) /kaggle/input/videotest/bubble1.mp4: 384x640 (no detections), 13.5ms\n",
      "video 1/1 (frame 136/910) /kaggle/input/videotest/bubble1.mp4: 384x640 (no detections), 14.1ms\n",
      "video 1/1 (frame 137/910) /kaggle/input/videotest/bubble1.mp4: 384x640 (no detections), 10.6ms\n",
      "video 1/1 (frame 138/910) /kaggle/input/videotest/bubble1.mp4: 384x640 (no detections), 10.6ms\n",
      "video 1/1 (frame 139/910) /kaggle/input/videotest/bubble1.mp4: 384x640 (no detections), 10.5ms\n",
      "video 1/1 (frame 140/910) /kaggle/input/videotest/bubble1.mp4: 384x640 (no detections), 10.9ms\n",
      "video 1/1 (frame 141/910) /kaggle/input/videotest/bubble1.mp4: 384x640 (no detections), 16.7ms\n",
      "video 1/1 (frame 142/910) /kaggle/input/videotest/bubble1.mp4: 384x640 (no detections), 10.6ms\n",
      "video 1/1 (frame 143/910) /kaggle/input/videotest/bubble1.mp4: 384x640 (no detections), 10.9ms\n",
      "video 1/1 (frame 144/910) /kaggle/input/videotest/bubble1.mp4: 384x640 (no detections), 10.6ms\n",
      "video 1/1 (frame 145/910) /kaggle/input/videotest/bubble1.mp4: 384x640 (no detections), 10.4ms\n",
      "video 1/1 (frame 146/910) /kaggle/input/videotest/bubble1.mp4: 384x640 (no detections), 10.4ms\n",
      "video 1/1 (frame 147/910) /kaggle/input/videotest/bubble1.mp4: 384x640 (no detections), 11.0ms\n",
      "video 1/1 (frame 148/910) /kaggle/input/videotest/bubble1.mp4: 384x640 (no detections), 18.2ms\n",
      "video 1/1 (frame 149/910) /kaggle/input/videotest/bubble1.mp4: 384x640 (no detections), 13.9ms\n",
      "video 1/1 (frame 150/910) /kaggle/input/videotest/bubble1.mp4: 384x640 (no detections), 11.3ms\n",
      "video 1/1 (frame 151/910) /kaggle/input/videotest/bubble1.mp4: 384x640 (no detections), 13.1ms\n",
      "video 1/1 (frame 152/910) /kaggle/input/videotest/bubble1.mp4: 384x640 (no detections), 13.2ms\n",
      "video 1/1 (frame 153/910) /kaggle/input/videotest/bubble1.mp4: 384x640 (no detections), 10.7ms\n",
      "video 1/1 (frame 154/910) /kaggle/input/videotest/bubble1.mp4: 384x640 (no detections), 10.7ms\n",
      "video 1/1 (frame 155/910) /kaggle/input/videotest/bubble1.mp4: 384x640 (no detections), 10.5ms\n",
      "video 1/1 (frame 156/910) /kaggle/input/videotest/bubble1.mp4: 384x640 (no detections), 10.9ms\n",
      "video 1/1 (frame 157/910) /kaggle/input/videotest/bubble1.mp4: 384x640 (no detections), 15.7ms\n",
      "video 1/1 (frame 158/910) /kaggle/input/videotest/bubble1.mp4: 384x640 (no detections), 11.6ms\n",
      "video 1/1 (frame 159/910) /kaggle/input/videotest/bubble1.mp4: 384x640 (no detections), 10.7ms\n",
      "video 1/1 (frame 160/910) /kaggle/input/videotest/bubble1.mp4: 384x640 (no detections), 13.6ms\n",
      "video 1/1 (frame 161/910) /kaggle/input/videotest/bubble1.mp4: 384x640 (no detections), 10.5ms\n",
      "video 1/1 (frame 162/910) /kaggle/input/videotest/bubble1.mp4: 384x640 (no detections), 10.3ms\n",
      "video 1/1 (frame 163/910) /kaggle/input/videotest/bubble1.mp4: 384x640 (no detections), 10.4ms\n",
      "video 1/1 (frame 164/910) /kaggle/input/videotest/bubble1.mp4: 384x640 (no detections), 10.7ms\n",
      "video 1/1 (frame 165/910) /kaggle/input/videotest/bubble1.mp4: 384x640 (no detections), 10.7ms\n",
      "video 1/1 (frame 166/910) /kaggle/input/videotest/bubble1.mp4: 384x640 (no detections), 10.4ms\n",
      "video 1/1 (frame 167/910) /kaggle/input/videotest/bubble1.mp4: 384x640 (no detections), 10.3ms\n",
      "video 1/1 (frame 168/910) /kaggle/input/videotest/bubble1.mp4: 384x640 (no detections), 13.6ms\n",
      "video 1/1 (frame 169/910) /kaggle/input/videotest/bubble1.mp4: 384x640 1 bubble, 13.6ms\n",
      "video 1/1 (frame 170/910) /kaggle/input/videotest/bubble1.mp4: 384x640 1 bubble, 13.2ms\n",
      "video 1/1 (frame 171/910) /kaggle/input/videotest/bubble1.mp4: 384x640 (no detections), 10.5ms\n",
      "video 1/1 (frame 172/910) /kaggle/input/videotest/bubble1.mp4: 384x640 1 bubble, 14.9ms\n",
      "video 1/1 (frame 173/910) /kaggle/input/videotest/bubble1.mp4: 384x640 (no detections), 14.2ms\n",
      "video 1/1 (frame 174/910) /kaggle/input/videotest/bubble1.mp4: 384x640 (no detections), 13.5ms\n",
      "video 1/1 (frame 175/910) /kaggle/input/videotest/bubble1.mp4: 384x640 (no detections), 10.4ms\n",
      "video 1/1 (frame 176/910) /kaggle/input/videotest/bubble1.mp4: 384x640 (no detections), 10.3ms\n",
      "video 1/1 (frame 177/910) /kaggle/input/videotest/bubble1.mp4: 384x640 (no detections), 10.5ms\n",
      "video 1/1 (frame 178/910) /kaggle/input/videotest/bubble1.mp4: 384x640 (no detections), 10.2ms\n",
      "video 1/1 (frame 179/910) /kaggle/input/videotest/bubble1.mp4: 384x640 (no detections), 13.0ms\n",
      "video 1/1 (frame 180/910) /kaggle/input/videotest/bubble1.mp4: 384x640 (no detections), 11.8ms\n",
      "video 1/1 (frame 181/910) /kaggle/input/videotest/bubble1.mp4: 384x640 (no detections), 10.5ms\n",
      "video 1/1 (frame 182/910) /kaggle/input/videotest/bubble1.mp4: 384x640 (no detections), 11.6ms\n",
      "video 1/1 (frame 183/910) /kaggle/input/videotest/bubble1.mp4: 384x640 (no detections), 13.8ms\n",
      "video 1/1 (frame 184/910) /kaggle/input/videotest/bubble1.mp4: 384x640 (no detections), 11.1ms\n",
      "video 1/1 (frame 185/910) /kaggle/input/videotest/bubble1.mp4: 384x640 (no detections), 10.9ms\n",
      "video 1/1 (frame 186/910) /kaggle/input/videotest/bubble1.mp4: 384x640 (no detections), 15.8ms\n",
      "video 1/1 (frame 187/910) /kaggle/input/videotest/bubble1.mp4: 384x640 (no detections), 13.3ms\n",
      "video 1/1 (frame 188/910) /kaggle/input/videotest/bubble1.mp4: 384x640 (no detections), 14.7ms\n",
      "video 1/1 (frame 189/910) /kaggle/input/videotest/bubble1.mp4: 384x640 (no detections), 11.3ms\n",
      "video 1/1 (frame 190/910) /kaggle/input/videotest/bubble1.mp4: 384x640 (no detections), 11.8ms\n",
      "video 1/1 (frame 191/910) /kaggle/input/videotest/bubble1.mp4: 384x640 (no detections), 13.7ms\n",
      "video 1/1 (frame 192/910) /kaggle/input/videotest/bubble1.mp4: 384x640 1 bubble, 13.7ms\n",
      "video 1/1 (frame 193/910) /kaggle/input/videotest/bubble1.mp4: 384x640 3 bubbles, 11.7ms\n",
      "video 1/1 (frame 194/910) /kaggle/input/videotest/bubble1.mp4: 384x640 (no detections), 13.7ms\n",
      "video 1/1 (frame 195/910) /kaggle/input/videotest/bubble1.mp4: 384x640 (no detections), 13.0ms\n",
      "video 1/1 (frame 196/910) /kaggle/input/videotest/bubble1.mp4: 384x640 (no detections), 13.1ms\n",
      "video 1/1 (frame 197/910) /kaggle/input/videotest/bubble1.mp4: 384x640 (no detections), 16.1ms\n",
      "video 1/1 (frame 198/910) /kaggle/input/videotest/bubble1.mp4: 384x640 (no detections), 12.9ms\n",
      "video 1/1 (frame 199/910) /kaggle/input/videotest/bubble1.mp4: 384x640 (no detections), 12.6ms\n",
      "video 1/1 (frame 200/910) /kaggle/input/videotest/bubble1.mp4: 384x640 (no detections), 13.2ms\n",
      "video 1/1 (frame 201/910) /kaggle/input/videotest/bubble1.mp4: 384x640 1 bubble, 11.2ms\n",
      "video 1/1 (frame 202/910) /kaggle/input/videotest/bubble1.mp4: 384x640 (no detections), 14.5ms\n",
      "video 1/1 (frame 203/910) /kaggle/input/videotest/bubble1.mp4: 384x640 (no detections), 12.1ms\n",
      "video 1/1 (frame 204/910) /kaggle/input/videotest/bubble1.mp4: 384x640 (no detections), 14.4ms\n",
      "video 1/1 (frame 205/910) /kaggle/input/videotest/bubble1.mp4: 384x640 (no detections), 13.8ms\n",
      "video 1/1 (frame 206/910) /kaggle/input/videotest/bubble1.mp4: 384x640 (no detections), 14.3ms\n",
      "video 1/1 (frame 207/910) /kaggle/input/videotest/bubble1.mp4: 384x640 (no detections), 14.0ms\n",
      "video 1/1 (frame 208/910) /kaggle/input/videotest/bubble1.mp4: 384x640 (no detections), 13.1ms\n",
      "video 1/1 (frame 209/910) /kaggle/input/videotest/bubble1.mp4: 384x640 1 bubble, 13.7ms\n",
      "video 1/1 (frame 210/910) /kaggle/input/videotest/bubble1.mp4: 384x640 1 bubble, 14.3ms\n",
      "video 1/1 (frame 211/910) /kaggle/input/videotest/bubble1.mp4: 384x640 (no detections), 13.6ms\n",
      "video 1/1 (frame 212/910) /kaggle/input/videotest/bubble1.mp4: 384x640 (no detections), 11.9ms\n",
      "video 1/1 (frame 213/910) /kaggle/input/videotest/bubble1.mp4: 384x640 (no detections), 11.4ms\n",
      "video 1/1 (frame 214/910) /kaggle/input/videotest/bubble1.mp4: 384x640 (no detections), 11.2ms\n",
      "video 1/1 (frame 215/910) /kaggle/input/videotest/bubble1.mp4: 384x640 (no detections), 11.2ms\n",
      "video 1/1 (frame 216/910) /kaggle/input/videotest/bubble1.mp4: 384x640 (no detections), 11.1ms\n",
      "video 1/1 (frame 217/910) /kaggle/input/videotest/bubble1.mp4: 384x640 (no detections), 10.6ms\n",
      "video 1/1 (frame 218/910) /kaggle/input/videotest/bubble1.mp4: 384x640 (no detections), 11.3ms\n",
      "video 1/1 (frame 219/910) /kaggle/input/videotest/bubble1.mp4: 384x640 (no detections), 10.6ms\n",
      "video 1/1 (frame 220/910) /kaggle/input/videotest/bubble1.mp4: 384x640 1 bubble, 13.9ms\n",
      "video 1/1 (frame 221/910) /kaggle/input/videotest/bubble1.mp4: 384x640 1 bubble, 11.2ms\n",
      "video 1/1 (frame 222/910) /kaggle/input/videotest/bubble1.mp4: 384x640 1 bubble, 10.6ms\n",
      "video 1/1 (frame 223/910) /kaggle/input/videotest/bubble1.mp4: 384x640 (no detections), 10.4ms\n",
      "video 1/1 (frame 224/910) /kaggle/input/videotest/bubble1.mp4: 384x640 1 bubble, 10.4ms\n",
      "video 1/1 (frame 225/910) /kaggle/input/videotest/bubble1.mp4: 384x640 1 bubble, 10.8ms\n",
      "video 1/1 (frame 226/910) /kaggle/input/videotest/bubble1.mp4: 384x640 1 bubble, 11.1ms\n",
      "video 1/1 (frame 227/910) /kaggle/input/videotest/bubble1.mp4: 384x640 2 bubbles, 14.1ms\n",
      "video 1/1 (frame 228/910) /kaggle/input/videotest/bubble1.mp4: 384x640 1 bubble, 10.5ms\n",
      "video 1/1 (frame 229/910) /kaggle/input/videotest/bubble1.mp4: 384x640 (no detections), 13.6ms\n",
      "video 1/1 (frame 230/910) /kaggle/input/videotest/bubble1.mp4: 384x640 (no detections), 10.4ms\n",
      "video 1/1 (frame 231/910) /kaggle/input/videotest/bubble1.mp4: 384x640 (no detections), 10.7ms\n",
      "video 1/1 (frame 232/910) /kaggle/input/videotest/bubble1.mp4: 384x640 1 bubble, 11.0ms\n",
      "video 1/1 (frame 233/910) /kaggle/input/videotest/bubble1.mp4: 384x640 2 bubbles, 13.1ms\n",
      "video 1/1 (frame 234/910) /kaggle/input/videotest/bubble1.mp4: 384x640 1 bubble, 10.3ms\n",
      "video 1/1 (frame 235/910) /kaggle/input/videotest/bubble1.mp4: 384x640 (no detections), 13.8ms\n",
      "video 1/1 (frame 236/910) /kaggle/input/videotest/bubble1.mp4: 384x640 (no detections), 10.4ms\n",
      "video 1/1 (frame 237/910) /kaggle/input/videotest/bubble1.mp4: 384x640 (no detections), 10.3ms\n",
      "video 1/1 (frame 238/910) /kaggle/input/videotest/bubble1.mp4: 384x640 (no detections), 10.5ms\n",
      "video 1/1 (frame 239/910) /kaggle/input/videotest/bubble1.mp4: 384x640 (no detections), 11.6ms\n",
      "video 1/1 (frame 240/910) /kaggle/input/videotest/bubble1.mp4: 384x640 2 bubbles, 11.7ms\n",
      "video 1/1 (frame 241/910) /kaggle/input/videotest/bubble1.mp4: 384x640 2 bubbles, 14.4ms\n",
      "video 1/1 (frame 242/910) /kaggle/input/videotest/bubble1.mp4: 384x640 2 bubbles, 12.2ms\n",
      "video 1/1 (frame 243/910) /kaggle/input/videotest/bubble1.mp4: 384x640 1 bubble, 12.5ms\n",
      "video 1/1 (frame 244/910) /kaggle/input/videotest/bubble1.mp4: 384x640 1 bubble, 15.2ms\n",
      "video 1/1 (frame 245/910) /kaggle/input/videotest/bubble1.mp4: 384x640 (no detections), 14.0ms\n",
      "video 1/1 (frame 246/910) /kaggle/input/videotest/bubble1.mp4: 384x640 (no detections), 10.6ms\n",
      "video 1/1 (frame 247/910) /kaggle/input/videotest/bubble1.mp4: 384x640 3 bubbles, 10.1ms\n",
      "video 1/1 (frame 248/910) /kaggle/input/videotest/bubble1.mp4: 384x640 1 bubble, 13.0ms\n",
      "video 1/1 (frame 249/910) /kaggle/input/videotest/bubble1.mp4: 384x640 (no detections), 13.6ms\n",
      "video 1/1 (frame 250/910) /kaggle/input/videotest/bubble1.mp4: 384x640 (no detections), 10.2ms\n",
      "video 1/1 (frame 251/910) /kaggle/input/videotest/bubble1.mp4: 384x640 4 bubbles, 10.2ms\n",
      "video 1/1 (frame 252/910) /kaggle/input/videotest/bubble1.mp4: 384x640 1 bubble, 14.6ms\n",
      "video 1/1 (frame 253/910) /kaggle/input/videotest/bubble1.mp4: 384x640 1 bubble, 10.8ms\n",
      "video 1/1 (frame 254/910) /kaggle/input/videotest/bubble1.mp4: 384x640 1 bubble, 11.0ms\n",
      "video 1/1 (frame 255/910) /kaggle/input/videotest/bubble1.mp4: 384x640 1 bubble, 10.6ms\n",
      "video 1/1 (frame 256/910) /kaggle/input/videotest/bubble1.mp4: 384x640 1 bubble, 10.3ms\n",
      "video 1/1 (frame 257/910) /kaggle/input/videotest/bubble1.mp4: 384x640 1 bubble, 10.2ms\n",
      "video 1/1 (frame 258/910) /kaggle/input/videotest/bubble1.mp4: 384x640 2 bubbles, 10.4ms\n",
      "video 1/1 (frame 259/910) /kaggle/input/videotest/bubble1.mp4: 384x640 2 bubbles, 10.1ms\n",
      "video 1/1 (frame 260/910) /kaggle/input/videotest/bubble1.mp4: 384x640 3 bubbles, 10.3ms\n",
      "video 1/1 (frame 261/910) /kaggle/input/videotest/bubble1.mp4: 384x640 2 bubbles, 14.2ms\n",
      "video 1/1 (frame 262/910) /kaggle/input/videotest/bubble1.mp4: 384x640 3 bubbles, 10.3ms\n",
      "video 1/1 (frame 263/910) /kaggle/input/videotest/bubble1.mp4: 384x640 3 bubbles, 10.2ms\n",
      "video 1/1 (frame 264/910) /kaggle/input/videotest/bubble1.mp4: 384x640 2 bubbles, 11.2ms\n",
      "video 1/1 (frame 265/910) /kaggle/input/videotest/bubble1.mp4: 384x640 (no detections), 11.6ms\n",
      "video 1/1 (frame 266/910) /kaggle/input/videotest/bubble1.mp4: 384x640 1 bubble, 13.2ms\n",
      "video 1/1 (frame 267/910) /kaggle/input/videotest/bubble1.mp4: 384x640 (no detections), 13.2ms\n",
      "video 1/1 (frame 268/910) /kaggle/input/videotest/bubble1.mp4: 384x640 (no detections), 10.8ms\n",
      "video 1/1 (frame 269/910) /kaggle/input/videotest/bubble1.mp4: 384x640 1 bubble, 10.8ms\n",
      "video 1/1 (frame 270/910) /kaggle/input/videotest/bubble1.mp4: 384x640 3 bubbles, 10.8ms\n",
      "video 1/1 (frame 271/910) /kaggle/input/videotest/bubble1.mp4: 384x640 2 bubbles, 11.1ms\n",
      "video 1/1 (frame 272/910) /kaggle/input/videotest/bubble1.mp4: 384x640 3 bubbles, 13.1ms\n",
      "video 1/1 (frame 273/910) /kaggle/input/videotest/bubble1.mp4: 384x640 (no detections), 10.3ms\n",
      "video 1/1 (frame 274/910) /kaggle/input/videotest/bubble1.mp4: 384x640 1 bubble, 10.4ms\n",
      "video 1/1 (frame 275/910) /kaggle/input/videotest/bubble1.mp4: 384x640 3 bubbles, 10.1ms\n",
      "video 1/1 (frame 276/910) /kaggle/input/videotest/bubble1.mp4: 384x640 3 bubbles, 10.3ms\n",
      "video 1/1 (frame 277/910) /kaggle/input/videotest/bubble1.mp4: 384x640 1 bubble, 10.6ms\n",
      "video 1/1 (frame 278/910) /kaggle/input/videotest/bubble1.mp4: 384x640 2 bubbles, 11.5ms\n",
      "video 1/1 (frame 279/910) /kaggle/input/videotest/bubble1.mp4: 384x640 2 bubbles, 13.3ms\n",
      "video 1/1 (frame 280/910) /kaggle/input/videotest/bubble1.mp4: 384x640 2 bubbles, 11.0ms\n",
      "video 1/1 (frame 281/910) /kaggle/input/videotest/bubble1.mp4: 384x640 2 bubbles, 13.3ms\n",
      "video 1/1 (frame 282/910) /kaggle/input/videotest/bubble1.mp4: 384x640 2 bubbles, 10.5ms\n",
      "video 1/1 (frame 283/910) /kaggle/input/videotest/bubble1.mp4: 384x640 2 bubbles, 10.3ms\n",
      "video 1/1 (frame 284/910) /kaggle/input/videotest/bubble1.mp4: 384x640 (no detections), 10.5ms\n",
      "video 1/1 (frame 285/910) /kaggle/input/videotest/bubble1.mp4: 384x640 2 bubbles, 13.2ms\n",
      "video 1/1 (frame 286/910) /kaggle/input/videotest/bubble1.mp4: 384x640 3 bubbles, 10.7ms\n",
      "video 1/1 (frame 287/910) /kaggle/input/videotest/bubble1.mp4: 384x640 3 bubbles, 13.1ms\n",
      "video 1/1 (frame 288/910) /kaggle/input/videotest/bubble1.mp4: 384x640 3 bubbles, 10.3ms\n",
      "video 1/1 (frame 289/910) /kaggle/input/videotest/bubble1.mp4: 384x640 3 bubbles, 11.1ms\n",
      "video 1/1 (frame 290/910) /kaggle/input/videotest/bubble1.mp4: 384x640 3 bubbles, 13.1ms\n",
      "video 1/1 (frame 291/910) /kaggle/input/videotest/bubble1.mp4: 384x640 3 bubbles, 13.1ms\n",
      "video 1/1 (frame 292/910) /kaggle/input/videotest/bubble1.mp4: 384x640 (no detections), 10.8ms\n",
      "video 1/1 (frame 293/910) /kaggle/input/videotest/bubble1.mp4: 384x640 (no detections), 12.7ms\n",
      "video 1/1 (frame 294/910) /kaggle/input/videotest/bubble1.mp4: 384x640 (no detections), 10.4ms\n",
      "video 1/1 (frame 295/910) /kaggle/input/videotest/bubble1.mp4: 384x640 5 bubbles, 13.0ms\n",
      "video 1/1 (frame 296/910) /kaggle/input/videotest/bubble1.mp4: 384x640 3 bubbles, 12.5ms\n",
      "video 1/1 (frame 297/910) /kaggle/input/videotest/bubble1.mp4: 384x640 4 bubbles, 10.1ms\n",
      "video 1/1 (frame 298/910) /kaggle/input/videotest/bubble1.mp4: 384x640 3 bubbles, 10.3ms\n",
      "video 1/1 (frame 299/910) /kaggle/input/videotest/bubble1.mp4: 384x640 2 bubbles, 10.2ms\n",
      "video 1/1 (frame 300/910) /kaggle/input/videotest/bubble1.mp4: 384x640 2 bubbles, 10.4ms\n",
      "video 1/1 (frame 301/910) /kaggle/input/videotest/bubble1.mp4: 384x640 (no detections), 13.3ms\n",
      "video 1/1 (frame 302/910) /kaggle/input/videotest/bubble1.mp4: 384x640 2 bubbles, 12.7ms\n",
      "video 1/1 (frame 303/910) /kaggle/input/videotest/bubble1.mp4: 384x640 2 bubbles, 12.8ms\n",
      "video 1/1 (frame 304/910) /kaggle/input/videotest/bubble1.mp4: 384x640 1 bubble, 10.5ms\n",
      "video 1/1 (frame 305/910) /kaggle/input/videotest/bubble1.mp4: 384x640 3 bubbles, 10.6ms\n",
      "video 1/1 (frame 306/910) /kaggle/input/videotest/bubble1.mp4: 384x640 1 bubble, 12.7ms\n",
      "video 1/1 (frame 307/910) /kaggle/input/videotest/bubble1.mp4: 384x640 1 bubble, 10.2ms\n",
      "video 1/1 (frame 308/910) /kaggle/input/videotest/bubble1.mp4: 384x640 2 bubbles, 10.8ms\n",
      "video 1/1 (frame 309/910) /kaggle/input/videotest/bubble1.mp4: 384x640 (no detections), 11.0ms\n",
      "video 1/1 (frame 310/910) /kaggle/input/videotest/bubble1.mp4: 384x640 (no detections), 10.5ms\n",
      "video 1/1 (frame 311/910) /kaggle/input/videotest/bubble1.mp4: 384x640 (no detections), 11.1ms\n",
      "video 1/1 (frame 312/910) /kaggle/input/videotest/bubble1.mp4: 384x640 (no detections), 11.7ms\n",
      "video 1/1 (frame 313/910) /kaggle/input/videotest/bubble1.mp4: 384x640 1 bubble, 10.2ms\n",
      "video 1/1 (frame 314/910) /kaggle/input/videotest/bubble1.mp4: 384x640 (no detections), 10.2ms\n",
      "video 1/1 (frame 315/910) /kaggle/input/videotest/bubble1.mp4: 384x640 (no detections), 10.2ms\n",
      "video 1/1 (frame 316/910) /kaggle/input/videotest/bubble1.mp4: 384x640 (no detections), 10.0ms\n",
      "video 1/1 (frame 317/910) /kaggle/input/videotest/bubble1.mp4: 384x640 (no detections), 10.2ms\n",
      "video 1/1 (frame 318/910) /kaggle/input/videotest/bubble1.mp4: 384x640 (no detections), 10.1ms\n",
      "video 1/1 (frame 319/910) /kaggle/input/videotest/bubble1.mp4: 384x640 1 bubble, 10.3ms\n",
      "video 1/1 (frame 320/910) /kaggle/input/videotest/bubble1.mp4: 384x640 2 bubbles, 10.2ms\n",
      "video 1/1 (frame 321/910) /kaggle/input/videotest/bubble1.mp4: 384x640 2 bubbles, 10.3ms\n",
      "video 1/1 (frame 322/910) /kaggle/input/videotest/bubble1.mp4: 384x640 1 bubble, 12.5ms\n",
      "video 1/1 (frame 323/910) /kaggle/input/videotest/bubble1.mp4: 384x640 (no detections), 10.4ms\n",
      "video 1/1 (frame 324/910) /kaggle/input/videotest/bubble1.mp4: 384x640 1 bubble, 13.0ms\n",
      "video 1/1 (frame 325/910) /kaggle/input/videotest/bubble1.mp4: 384x640 (no detections), 13.0ms\n",
      "video 1/1 (frame 326/910) /kaggle/input/videotest/bubble1.mp4: 384x640 (no detections), 12.5ms\n",
      "video 1/1 (frame 327/910) /kaggle/input/videotest/bubble1.mp4: 384x640 1 bubble, 10.3ms\n",
      "video 1/1 (frame 328/910) /kaggle/input/videotest/bubble1.mp4: 384x640 (no detections), 10.2ms\n",
      "video 1/1 (frame 329/910) /kaggle/input/videotest/bubble1.mp4: 384x640 (no detections), 10.3ms\n",
      "video 1/1 (frame 330/910) /kaggle/input/videotest/bubble1.mp4: 384x640 2 bubbles, 10.9ms\n",
      "video 1/1 (frame 331/910) /kaggle/input/videotest/bubble1.mp4: 384x640 2 bubbles, 12.0ms\n",
      "video 1/1 (frame 332/910) /kaggle/input/videotest/bubble1.mp4: 384x640 3 bubbles, 10.1ms\n",
      "video 1/1 (frame 333/910) /kaggle/input/videotest/bubble1.mp4: 384x640 3 bubbles, 10.5ms\n",
      "video 1/1 (frame 334/910) /kaggle/input/videotest/bubble1.mp4: 384x640 1 bubble, 12.2ms\n",
      "video 1/1 (frame 335/910) /kaggle/input/videotest/bubble1.mp4: 384x640 1 bubble, 10.2ms\n",
      "video 1/1 (frame 336/910) /kaggle/input/videotest/bubble1.mp4: 384x640 1 bubble, 11.0ms\n",
      "video 1/1 (frame 337/910) /kaggle/input/videotest/bubble1.mp4: 384x640 1 bubble, 10.3ms\n",
      "video 1/1 (frame 338/910) /kaggle/input/videotest/bubble1.mp4: 384x640 (no detections), 10.4ms\n",
      "video 1/1 (frame 339/910) /kaggle/input/videotest/bubble1.mp4: 384x640 1 bubble, 10.1ms\n",
      "video 1/1 (frame 340/910) /kaggle/input/videotest/bubble1.mp4: 384x640 2 bubbles, 17.6ms\n",
      "video 1/1 (frame 341/910) /kaggle/input/videotest/bubble1.mp4: 384x640 1 bubble, 10.5ms\n",
      "video 1/1 (frame 342/910) /kaggle/input/videotest/bubble1.mp4: 384x640 2 bubbles, 10.2ms\n",
      "video 1/1 (frame 343/910) /kaggle/input/videotest/bubble1.mp4: 384x640 4 bubbles, 10.1ms\n",
      "video 1/1 (frame 344/910) /kaggle/input/videotest/bubble1.mp4: 384x640 5 bubbles, 10.2ms\n",
      "video 1/1 (frame 345/910) /kaggle/input/videotest/bubble1.mp4: 384x640 2 bubbles, 10.2ms\n",
      "video 1/1 (frame 346/910) /kaggle/input/videotest/bubble1.mp4: 384x640 2 bubbles, 10.4ms\n",
      "video 1/1 (frame 347/910) /kaggle/input/videotest/bubble1.mp4: 384x640 3 bubbles, 10.3ms\n",
      "video 1/1 (frame 348/910) /kaggle/input/videotest/bubble1.mp4: 384x640 2 bubbles, 10.1ms\n",
      "video 1/1 (frame 349/910) /kaggle/input/videotest/bubble1.mp4: 384x640 5 bubbles, 10.4ms\n",
      "video 1/1 (frame 350/910) /kaggle/input/videotest/bubble1.mp4: 384x640 7 bubbles, 10.1ms\n",
      "video 1/1 (frame 351/910) /kaggle/input/videotest/bubble1.mp4: 384x640 4 bubbles, 12.4ms\n",
      "video 1/1 (frame 352/910) /kaggle/input/videotest/bubble1.mp4: 384x640 3 bubbles, 12.4ms\n",
      "video 1/1 (frame 353/910) /kaggle/input/videotest/bubble1.mp4: 384x640 3 bubbles, 10.0ms\n",
      "video 1/1 (frame 354/910) /kaggle/input/videotest/bubble1.mp4: 384x640 1 bubble, 10.4ms\n",
      "video 1/1 (frame 355/910) /kaggle/input/videotest/bubble1.mp4: 384x640 5 bubbles, 10.2ms\n",
      "video 1/1 (frame 356/910) /kaggle/input/videotest/bubble1.mp4: 384x640 5 bubbles, 10.3ms\n",
      "video 1/1 (frame 357/910) /kaggle/input/videotest/bubble1.mp4: 384x640 3 bubbles, 10.3ms\n",
      "video 1/1 (frame 358/910) /kaggle/input/videotest/bubble1.mp4: 384x640 3 bubbles, 10.8ms\n",
      "video 1/1 (frame 359/910) /kaggle/input/videotest/bubble1.mp4: 384x640 5 bubbles, 10.4ms\n",
      "video 1/1 (frame 360/910) /kaggle/input/videotest/bubble1.mp4: 384x640 5 bubbles, 13.3ms\n",
      "video 1/1 (frame 361/910) /kaggle/input/videotest/bubble1.mp4: 384x640 2 bubbles, 13.1ms\n",
      "video 1/1 (frame 362/910) /kaggle/input/videotest/bubble1.mp4: 384x640 1 bubble, 11.9ms\n",
      "video 1/1 (frame 363/910) /kaggle/input/videotest/bubble1.mp4: 384x640 1 bubble, 15.2ms\n",
      "video 1/1 (frame 364/910) /kaggle/input/videotest/bubble1.mp4: 384x640 1 bubble, 14.9ms\n",
      "video 1/1 (frame 365/910) /kaggle/input/videotest/bubble1.mp4: 384x640 1 bubble, 15.6ms\n",
      "video 1/1 (frame 366/910) /kaggle/input/videotest/bubble1.mp4: 384x640 3 bubbles, 11.6ms\n",
      "video 1/1 (frame 367/910) /kaggle/input/videotest/bubble1.mp4: 384x640 1 bubble, 18.8ms\n",
      "video 1/1 (frame 368/910) /kaggle/input/videotest/bubble1.mp4: 384x640 2 bubbles, 13.0ms\n",
      "video 1/1 (frame 369/910) /kaggle/input/videotest/bubble1.mp4: 384x640 2 bubbles, 10.5ms\n",
      "video 1/1 (frame 370/910) /kaggle/input/videotest/bubble1.mp4: 384x640 2 bubbles, 10.7ms\n",
      "video 1/1 (frame 371/910) /kaggle/input/videotest/bubble1.mp4: 384x640 2 bubbles, 15.0ms\n",
      "video 1/1 (frame 372/910) /kaggle/input/videotest/bubble1.mp4: 384x640 1 bubble, 13.1ms\n",
      "video 1/1 (frame 373/910) /kaggle/input/videotest/bubble1.mp4: 384x640 1 bubble, 10.5ms\n",
      "video 1/1 (frame 374/910) /kaggle/input/videotest/bubble1.mp4: 384x640 3 bubbles, 10.4ms\n",
      "video 1/1 (frame 375/910) /kaggle/input/videotest/bubble1.mp4: 384x640 3 bubbles, 10.2ms\n",
      "video 1/1 (frame 376/910) /kaggle/input/videotest/bubble1.mp4: 384x640 3 bubbles, 10.6ms\n",
      "video 1/1 (frame 377/910) /kaggle/input/videotest/bubble1.mp4: 384x640 3 bubbles, 10.5ms\n",
      "video 1/1 (frame 378/910) /kaggle/input/videotest/bubble1.mp4: 384x640 3 bubbles, 12.3ms\n",
      "video 1/1 (frame 379/910) /kaggle/input/videotest/bubble1.mp4: 384x640 4 bubbles, 10.5ms\n",
      "video 1/1 (frame 380/910) /kaggle/input/videotest/bubble1.mp4: 384x640 4 bubbles, 11.5ms\n",
      "video 1/1 (frame 381/910) /kaggle/input/videotest/bubble1.mp4: 384x640 2 bubbles, 12.9ms\n",
      "video 1/1 (frame 382/910) /kaggle/input/videotest/bubble1.mp4: 384x640 2 bubbles, 10.8ms\n",
      "video 1/1 (frame 383/910) /kaggle/input/videotest/bubble1.mp4: 384x640 1 bubble, 10.8ms\n",
      "video 1/1 (frame 384/910) /kaggle/input/videotest/bubble1.mp4: 384x640 6 bubbles, 10.8ms\n",
      "video 1/1 (frame 385/910) /kaggle/input/videotest/bubble1.mp4: 384x640 3 bubbles, 10.3ms\n",
      "video 1/1 (frame 386/910) /kaggle/input/videotest/bubble1.mp4: 384x640 3 bubbles, 13.3ms\n",
      "video 1/1 (frame 387/910) /kaggle/input/videotest/bubble1.mp4: 384x640 1 bubble, 11.7ms\n",
      "video 1/1 (frame 388/910) /kaggle/input/videotest/bubble1.mp4: 384x640 3 bubbles, 10.4ms\n",
      "video 1/1 (frame 389/910) /kaggle/input/videotest/bubble1.mp4: 384x640 2 bubbles, 10.1ms\n",
      "video 1/1 (frame 390/910) /kaggle/input/videotest/bubble1.mp4: 384x640 3 bubbles, 10.1ms\n",
      "video 1/1 (frame 391/910) /kaggle/input/videotest/bubble1.mp4: 384x640 4 bubbles, 10.1ms\n",
      "video 1/1 (frame 392/910) /kaggle/input/videotest/bubble1.mp4: 384x640 2 bubbles, 12.5ms\n",
      "video 1/1 (frame 393/910) /kaggle/input/videotest/bubble1.mp4: 384x640 5 bubbles, 10.5ms\n",
      "video 1/1 (frame 394/910) /kaggle/input/videotest/bubble1.mp4: 384x640 5 bubbles, 10.2ms\n",
      "video 1/1 (frame 395/910) /kaggle/input/videotest/bubble1.mp4: 384x640 2 bubbles, 10.7ms\n",
      "video 1/1 (frame 396/910) /kaggle/input/videotest/bubble1.mp4: 384x640 (no detections), 11.4ms\n",
      "video 1/1 (frame 397/910) /kaggle/input/videotest/bubble1.mp4: 384x640 (no detections), 12.7ms\n",
      "video 1/1 (frame 398/910) /kaggle/input/videotest/bubble1.mp4: 384x640 1 bubble, 10.3ms\n",
      "video 1/1 (frame 399/910) /kaggle/input/videotest/bubble1.mp4: 384x640 (no detections), 12.5ms\n",
      "video 1/1 (frame 400/910) /kaggle/input/videotest/bubble1.mp4: 384x640 (no detections), 10.2ms\n",
      "video 1/1 (frame 401/910) /kaggle/input/videotest/bubble1.mp4: 384x640 2 bubbles, 10.3ms\n",
      "video 1/1 (frame 402/910) /kaggle/input/videotest/bubble1.mp4: 384x640 2 bubbles, 10.5ms\n",
      "video 1/1 (frame 403/910) /kaggle/input/videotest/bubble1.mp4: 384x640 1 bubble, 10.5ms\n",
      "video 1/1 (frame 404/910) /kaggle/input/videotest/bubble1.mp4: 384x640 1 bubble, 10.3ms\n",
      "video 1/1 (frame 405/910) /kaggle/input/videotest/bubble1.mp4: 384x640 1 bubble, 10.4ms\n",
      "video 1/1 (frame 406/910) /kaggle/input/videotest/bubble1.mp4: 384x640 2 bubbles, 10.6ms\n",
      "video 1/1 (frame 407/910) /kaggle/input/videotest/bubble1.mp4: 384x640 1 bubble, 10.1ms\n",
      "video 1/1 (frame 408/910) /kaggle/input/videotest/bubble1.mp4: 384x640 1 bubble, 13.1ms\n",
      "video 1/1 (frame 409/910) /kaggle/input/videotest/bubble1.mp4: 384x640 1 bubble, 10.1ms\n",
      "video 1/1 (frame 410/910) /kaggle/input/videotest/bubble1.mp4: 384x640 (no detections), 10.1ms\n",
      "video 1/1 (frame 411/910) /kaggle/input/videotest/bubble1.mp4: 384x640 1 bubble, 13.1ms\n",
      "video 1/1 (frame 412/910) /kaggle/input/videotest/bubble1.mp4: 384x640 1 bubble, 10.4ms\n",
      "video 1/1 (frame 413/910) /kaggle/input/videotest/bubble1.mp4: 384x640 1 bubble, 10.1ms\n",
      "video 1/1 (frame 414/910) /kaggle/input/videotest/bubble1.mp4: 384x640 (no detections), 10.4ms\n",
      "video 1/1 (frame 415/910) /kaggle/input/videotest/bubble1.mp4: 384x640 (no detections), 10.4ms\n",
      "video 1/1 (frame 416/910) /kaggle/input/videotest/bubble1.mp4: 384x640 (no detections), 12.0ms\n",
      "video 1/1 (frame 417/910) /kaggle/input/videotest/bubble1.mp4: 384x640 (no detections), 10.4ms\n",
      "video 1/1 (frame 418/910) /kaggle/input/videotest/bubble1.mp4: 384x640 (no detections), 10.1ms\n",
      "video 1/1 (frame 419/910) /kaggle/input/videotest/bubble1.mp4: 384x640 2 bubbles, 10.1ms\n",
      "video 1/1 (frame 420/910) /kaggle/input/videotest/bubble1.mp4: 384x640 2 bubbles, 10.7ms\n",
      "video 1/1 (frame 421/910) /kaggle/input/videotest/bubble1.mp4: 384x640 2 bubbles, 10.1ms\n",
      "video 1/1 (frame 422/910) /kaggle/input/videotest/bubble1.mp4: 384x640 4 bubbles, 10.2ms\n",
      "video 1/1 (frame 423/910) /kaggle/input/videotest/bubble1.mp4: 384x640 1 bubble, 10.2ms\n",
      "video 1/1 (frame 424/910) /kaggle/input/videotest/bubble1.mp4: 384x640 3 bubbles, 10.7ms\n",
      "video 1/1 (frame 425/910) /kaggle/input/videotest/bubble1.mp4: 384x640 3 bubbles, 10.2ms\n",
      "video 1/1 (frame 426/910) /kaggle/input/videotest/bubble1.mp4: 384x640 1 bubble, 10.5ms\n",
      "video 1/1 (frame 427/910) /kaggle/input/videotest/bubble1.mp4: 384x640 5 bubbles, 10.5ms\n",
      "video 1/1 (frame 428/910) /kaggle/input/videotest/bubble1.mp4: 384x640 3 bubbles, 11.1ms\n",
      "video 1/1 (frame 429/910) /kaggle/input/videotest/bubble1.mp4: 384x640 3 bubbles, 10.4ms\n",
      "video 1/1 (frame 430/910) /kaggle/input/videotest/bubble1.mp4: 384x640 3 bubbles, 10.7ms\n",
      "video 1/1 (frame 431/910) /kaggle/input/videotest/bubble1.mp4: 384x640 4 bubbles, 11.0ms\n",
      "video 1/1 (frame 432/910) /kaggle/input/videotest/bubble1.mp4: 384x640 2 bubbles, 10.6ms\n",
      "video 1/1 (frame 433/910) /kaggle/input/videotest/bubble1.mp4: 384x640 4 bubbles, 10.3ms\n",
      "video 1/1 (frame 434/910) /kaggle/input/videotest/bubble1.mp4: 384x640 4 bubbles, 11.2ms\n",
      "video 1/1 (frame 435/910) /kaggle/input/videotest/bubble1.mp4: 384x640 5 bubbles, 10.4ms\n",
      "video 1/1 (frame 436/910) /kaggle/input/videotest/bubble1.mp4: 384x640 3 bubbles, 10.4ms\n",
      "video 1/1 (frame 437/910) /kaggle/input/videotest/bubble1.mp4: 384x640 5 bubbles, 10.9ms\n",
      "video 1/1 (frame 438/910) /kaggle/input/videotest/bubble1.mp4: 384x640 5 bubbles, 10.2ms\n",
      "video 1/1 (frame 439/910) /kaggle/input/videotest/bubble1.mp4: 384x640 5 bubbles, 10.3ms\n",
      "video 1/1 (frame 440/910) /kaggle/input/videotest/bubble1.mp4: 384x640 7 bubbles, 12.8ms\n",
      "video 1/1 (frame 441/910) /kaggle/input/videotest/bubble1.mp4: 384x640 6 bubbles, 9.9ms\n",
      "video 1/1 (frame 442/910) /kaggle/input/videotest/bubble1.mp4: 384x640 6 bubbles, 12.8ms\n",
      "video 1/1 (frame 443/910) /kaggle/input/videotest/bubble1.mp4: 384x640 4 bubbles, 10.3ms\n",
      "video 1/1 (frame 444/910) /kaggle/input/videotest/bubble1.mp4: 384x640 5 bubbles, 10.3ms\n",
      "video 1/1 (frame 445/910) /kaggle/input/videotest/bubble1.mp4: 384x640 4 bubbles, 13.3ms\n",
      "video 1/1 (frame 446/910) /kaggle/input/videotest/bubble1.mp4: 384x640 6 bubbles, 10.1ms\n",
      "video 1/1 (frame 447/910) /kaggle/input/videotest/bubble1.mp4: 384x640 5 bubbles, 11.8ms\n",
      "video 1/1 (frame 448/910) /kaggle/input/videotest/bubble1.mp4: 384x640 6 bubbles, 10.4ms\n",
      "video 1/1 (frame 449/910) /kaggle/input/videotest/bubble1.mp4: 384x640 7 bubbles, 10.4ms\n",
      "video 1/1 (frame 450/910) /kaggle/input/videotest/bubble1.mp4: 384x640 7 bubbles, 10.1ms\n",
      "video 1/1 (frame 451/910) /kaggle/input/videotest/bubble1.mp4: 384x640 7 bubbles, 12.6ms\n",
      "video 1/1 (frame 452/910) /kaggle/input/videotest/bubble1.mp4: 384x640 7 bubbles, 10.8ms\n",
      "video 1/1 (frame 453/910) /kaggle/input/videotest/bubble1.mp4: 384x640 7 bubbles, 10.3ms\n",
      "video 1/1 (frame 454/910) /kaggle/input/videotest/bubble1.mp4: 384x640 8 bubbles, 10.3ms\n",
      "video 1/1 (frame 455/910) /kaggle/input/videotest/bubble1.mp4: 384x640 6 bubbles, 10.1ms\n",
      "video 1/1 (frame 456/910) /kaggle/input/videotest/bubble1.mp4: 384x640 7 bubbles, 13.0ms\n",
      "video 1/1 (frame 457/910) /kaggle/input/videotest/bubble1.mp4: 384x640 6 bubbles, 11.0ms\n",
      "video 1/1 (frame 458/910) /kaggle/input/videotest/bubble1.mp4: 384x640 6 bubbles, 11.4ms\n",
      "video 1/1 (frame 459/910) /kaggle/input/videotest/bubble1.mp4: 384x640 3 bubbles, 10.3ms\n",
      "video 1/1 (frame 460/910) /kaggle/input/videotest/bubble1.mp4: 384x640 1 bubble, 12.9ms\n",
      "video 1/1 (frame 461/910) /kaggle/input/videotest/bubble1.mp4: 384x640 1 bubble, 11.0ms\n",
      "video 1/1 (frame 462/910) /kaggle/input/videotest/bubble1.mp4: 384x640 3 bubbles, 10.3ms\n",
      "video 1/1 (frame 463/910) /kaggle/input/videotest/bubble1.mp4: 384x640 4 bubbles, 10.3ms\n",
      "video 1/1 (frame 464/910) /kaggle/input/videotest/bubble1.mp4: 384x640 7 bubbles, 12.0ms\n",
      "video 1/1 (frame 465/910) /kaggle/input/videotest/bubble1.mp4: 384x640 7 bubbles, 10.1ms\n",
      "video 1/1 (frame 466/910) /kaggle/input/videotest/bubble1.mp4: 384x640 5 bubbles, 12.3ms\n",
      "video 1/1 (frame 467/910) /kaggle/input/videotest/bubble1.mp4: 384x640 3 bubbles, 11.9ms\n",
      "video 1/1 (frame 468/910) /kaggle/input/videotest/bubble1.mp4: 384x640 4 bubbles, 10.0ms\n",
      "video 1/1 (frame 469/910) /kaggle/input/videotest/bubble1.mp4: 384x640 5 bubbles, 10.1ms\n",
      "video 1/1 (frame 470/910) /kaggle/input/videotest/bubble1.mp4: 384x640 5 bubbles, 10.1ms\n",
      "video 1/1 (frame 471/910) /kaggle/input/videotest/bubble1.mp4: 384x640 7 bubbles, 10.6ms\n",
      "video 1/1 (frame 472/910) /kaggle/input/videotest/bubble1.mp4: 384x640 6 bubbles, 10.4ms\n",
      "video 1/1 (frame 473/910) /kaggle/input/videotest/bubble1.mp4: 384x640 6 bubbles, 10.5ms\n",
      "video 1/1 (frame 474/910) /kaggle/input/videotest/bubble1.mp4: 384x640 4 bubbles, 10.5ms\n",
      "video 1/1 (frame 475/910) /kaggle/input/videotest/bubble1.mp4: 384x640 2 bubbles, 12.6ms\n",
      "video 1/1 (frame 476/910) /kaggle/input/videotest/bubble1.mp4: 384x640 3 bubbles, 12.0ms\n",
      "video 1/1 (frame 477/910) /kaggle/input/videotest/bubble1.mp4: 384x640 3 bubbles, 12.4ms\n",
      "video 1/1 (frame 478/910) /kaggle/input/videotest/bubble1.mp4: 384x640 3 bubbles, 10.2ms\n",
      "video 1/1 (frame 479/910) /kaggle/input/videotest/bubble1.mp4: 384x640 5 bubbles, 10.7ms\n",
      "video 1/1 (frame 480/910) /kaggle/input/videotest/bubble1.mp4: 384x640 1 bubble, 13.1ms\n",
      "video 1/1 (frame 481/910) /kaggle/input/videotest/bubble1.mp4: 384x640 1 bubble, 10.2ms\n",
      "video 1/1 (frame 482/910) /kaggle/input/videotest/bubble1.mp4: 384x640 2 bubbles, 10.4ms\n",
      "video 1/1 (frame 483/910) /kaggle/input/videotest/bubble1.mp4: 384x640 1 bubble, 10.4ms\n",
      "video 1/1 (frame 484/910) /kaggle/input/videotest/bubble1.mp4: 384x640 3 bubbles, 10.2ms\n",
      "video 1/1 (frame 485/910) /kaggle/input/videotest/bubble1.mp4: 384x640 3 bubbles, 10.4ms\n",
      "video 1/1 (frame 486/910) /kaggle/input/videotest/bubble1.mp4: 384x640 2 bubbles, 10.2ms\n",
      "video 1/1 (frame 487/910) /kaggle/input/videotest/bubble1.mp4: 384x640 2 bubbles, 10.3ms\n",
      "video 1/1 (frame 488/910) /kaggle/input/videotest/bubble1.mp4: 384x640 2 bubbles, 10.2ms\n",
      "video 1/1 (frame 489/910) /kaggle/input/videotest/bubble1.mp4: 384x640 2 bubbles, 12.4ms\n",
      "video 1/1 (frame 490/910) /kaggle/input/videotest/bubble1.mp4: 384x640 1 bubble, 10.1ms\n",
      "video 1/1 (frame 491/910) /kaggle/input/videotest/bubble1.mp4: 384x640 1 bubble, 10.2ms\n",
      "video 1/1 (frame 492/910) /kaggle/input/videotest/bubble1.mp4: 384x640 1 bubble, 10.6ms\n",
      "video 1/1 (frame 493/910) /kaggle/input/videotest/bubble1.mp4: 384x640 (no detections), 10.3ms\n",
      "video 1/1 (frame 494/910) /kaggle/input/videotest/bubble1.mp4: 384x640 1 bubble, 10.1ms\n",
      "video 1/1 (frame 495/910) /kaggle/input/videotest/bubble1.mp4: 384x640 1 bubble, 10.4ms\n",
      "video 1/1 (frame 496/910) /kaggle/input/videotest/bubble1.mp4: 384x640 1 bubble, 10.5ms\n",
      "video 1/1 (frame 497/910) /kaggle/input/videotest/bubble1.mp4: 384x640 1 bubble, 10.4ms\n",
      "video 1/1 (frame 498/910) /kaggle/input/videotest/bubble1.mp4: 384x640 1 bubble, 13.0ms\n",
      "video 1/1 (frame 499/910) /kaggle/input/videotest/bubble1.mp4: 384x640 2 bubbles, 12.8ms\n",
      "video 1/1 (frame 500/910) /kaggle/input/videotest/bubble1.mp4: 384x640 3 bubbles, 10.3ms\n",
      "video 1/1 (frame 501/910) /kaggle/input/videotest/bubble1.mp4: 384x640 1 bubble, 10.3ms\n",
      "video 1/1 (frame 502/910) /kaggle/input/videotest/bubble1.mp4: 384x640 (no detections), 10.3ms\n",
      "video 1/1 (frame 503/910) /kaggle/input/videotest/bubble1.mp4: 384x640 (no detections), 10.4ms\n",
      "video 1/1 (frame 504/910) /kaggle/input/videotest/bubble1.mp4: 384x640 (no detections), 10.6ms\n",
      "video 1/1 (frame 505/910) /kaggle/input/videotest/bubble1.mp4: 384x640 1 bubble, 10.1ms\n",
      "video 1/1 (frame 506/910) /kaggle/input/videotest/bubble1.mp4: 384x640 (no detections), 10.7ms\n",
      "video 1/1 (frame 507/910) /kaggle/input/videotest/bubble1.mp4: 384x640 (no detections), 12.1ms\n",
      "video 1/1 (frame 508/910) /kaggle/input/videotest/bubble1.mp4: 384x640 (no detections), 11.1ms\n",
      "video 1/1 (frame 509/910) /kaggle/input/videotest/bubble1.mp4: 384x640 3 bubbles, 10.2ms\n",
      "video 1/1 (frame 510/910) /kaggle/input/videotest/bubble1.mp4: 384x640 (no detections), 10.4ms\n",
      "video 1/1 (frame 511/910) /kaggle/input/videotest/bubble1.mp4: 384x640 1 bubble, 10.5ms\n",
      "video 1/1 (frame 512/910) /kaggle/input/videotest/bubble1.mp4: 384x640 1 bubble, 10.3ms\n",
      "video 1/1 (frame 513/910) /kaggle/input/videotest/bubble1.mp4: 384x640 1 bubble, 10.4ms\n",
      "video 1/1 (frame 514/910) /kaggle/input/videotest/bubble1.mp4: 384x640 (no detections), 10.3ms\n",
      "video 1/1 (frame 515/910) /kaggle/input/videotest/bubble1.mp4: 384x640 (no detections), 10.5ms\n",
      "video 1/1 (frame 516/910) /kaggle/input/videotest/bubble1.mp4: 384x640 (no detections), 10.2ms\n",
      "video 1/1 (frame 517/910) /kaggle/input/videotest/bubble1.mp4: 384x640 1 bubble, 10.5ms\n",
      "video 1/1 (frame 518/910) /kaggle/input/videotest/bubble1.mp4: 384x640 1 bubble, 11.3ms\n",
      "video 1/1 (frame 519/910) /kaggle/input/videotest/bubble1.mp4: 384x640 1 bubble, 10.6ms\n",
      "video 1/1 (frame 520/910) /kaggle/input/videotest/bubble1.mp4: 384x640 1 bubble, 10.3ms\n",
      "video 1/1 (frame 521/910) /kaggle/input/videotest/bubble1.mp4: 384x640 1 bubble, 10.3ms\n",
      "video 1/1 (frame 522/910) /kaggle/input/videotest/bubble1.mp4: 384x640 1 bubble, 11.4ms\n",
      "video 1/1 (frame 523/910) /kaggle/input/videotest/bubble1.mp4: 384x640 1 bubble, 10.2ms\n",
      "video 1/1 (frame 524/910) /kaggle/input/videotest/bubble1.mp4: 384x640 2 bubbles, 10.4ms\n",
      "video 1/1 (frame 525/910) /kaggle/input/videotest/bubble1.mp4: 384x640 2 bubbles, 10.2ms\n",
      "video 1/1 (frame 526/910) /kaggle/input/videotest/bubble1.mp4: 384x640 2 bubbles, 11.0ms\n",
      "video 1/1 (frame 527/910) /kaggle/input/videotest/bubble1.mp4: 384x640 2 bubbles, 11.2ms\n",
      "video 1/1 (frame 528/910) /kaggle/input/videotest/bubble1.mp4: 384x640 2 bubbles, 10.5ms\n",
      "video 1/1 (frame 529/910) /kaggle/input/videotest/bubble1.mp4: 384x640 1 bubble, 10.5ms\n",
      "video 1/1 (frame 530/910) /kaggle/input/videotest/bubble1.mp4: 384x640 1 bubble, 10.7ms\n",
      "video 1/1 (frame 531/910) /kaggle/input/videotest/bubble1.mp4: 384x640 1 bubble, 11.1ms\n",
      "video 1/1 (frame 532/910) /kaggle/input/videotest/bubble1.mp4: 384x640 1 bubble, 10.2ms\n",
      "video 1/1 (frame 533/910) /kaggle/input/videotest/bubble1.mp4: 384x640 1 bubble, 10.2ms\n",
      "video 1/1 (frame 534/910) /kaggle/input/videotest/bubble1.mp4: 384x640 2 bubbles, 10.3ms\n",
      "video 1/1 (frame 535/910) /kaggle/input/videotest/bubble1.mp4: 384x640 1 bubble, 10.5ms\n",
      "video 1/1 (frame 536/910) /kaggle/input/videotest/bubble1.mp4: 384x640 1 bubble, 10.9ms\n",
      "video 1/1 (frame 537/910) /kaggle/input/videotest/bubble1.mp4: 384x640 1 bubble, 10.2ms\n",
      "video 1/1 (frame 538/910) /kaggle/input/videotest/bubble1.mp4: 384x640 1 bubble, 10.5ms\n",
      "video 1/1 (frame 539/910) /kaggle/input/videotest/bubble1.mp4: 384x640 (no detections), 10.5ms\n",
      "video 1/1 (frame 540/910) /kaggle/input/videotest/bubble1.mp4: 384x640 (no detections), 11.2ms\n",
      "video 1/1 (frame 541/910) /kaggle/input/videotest/bubble1.mp4: 384x640 1 bubble, 10.8ms\n",
      "video 1/1 (frame 542/910) /kaggle/input/videotest/bubble1.mp4: 384x640 (no detections), 10.4ms\n",
      "video 1/1 (frame 543/910) /kaggle/input/videotest/bubble1.mp4: 384x640 1 bubble, 10.5ms\n",
      "video 1/1 (frame 544/910) /kaggle/input/videotest/bubble1.mp4: 384x640 1 bubble, 10.2ms\n",
      "video 1/1 (frame 545/910) /kaggle/input/videotest/bubble1.mp4: 384x640 1 bubble, 10.6ms\n",
      "video 1/1 (frame 546/910) /kaggle/input/videotest/bubble1.mp4: 384x640 (no detections), 10.3ms\n",
      "video 1/1 (frame 547/910) /kaggle/input/videotest/bubble1.mp4: 384x640 (no detections), 12.5ms\n",
      "video 1/1 (frame 548/910) /kaggle/input/videotest/bubble1.mp4: 384x640 1 bubble, 10.9ms\n",
      "video 1/1 (frame 549/910) /kaggle/input/videotest/bubble1.mp4: 384x640 (no detections), 10.5ms\n",
      "video 1/1 (frame 550/910) /kaggle/input/videotest/bubble1.mp4: 384x640 1 bubble, 11.1ms\n",
      "video 1/1 (frame 551/910) /kaggle/input/videotest/bubble1.mp4: 384x640 (no detections), 10.3ms\n",
      "video 1/1 (frame 552/910) /kaggle/input/videotest/bubble1.mp4: 384x640 (no detections), 10.4ms\n",
      "video 1/1 (frame 553/910) /kaggle/input/videotest/bubble1.mp4: 384x640 (no detections), 11.3ms\n",
      "video 1/1 (frame 554/910) /kaggle/input/videotest/bubble1.mp4: 384x640 (no detections), 10.4ms\n",
      "video 1/1 (frame 555/910) /kaggle/input/videotest/bubble1.mp4: 384x640 (no detections), 10.3ms\n",
      "video 1/1 (frame 556/910) /kaggle/input/videotest/bubble1.mp4: 384x640 (no detections), 10.4ms\n",
      "video 1/1 (frame 557/910) /kaggle/input/videotest/bubble1.mp4: 384x640 1 bubble, 10.5ms\n",
      "video 1/1 (frame 558/910) /kaggle/input/videotest/bubble1.mp4: 384x640 1 bubble, 11.1ms\n",
      "video 1/1 (frame 559/910) /kaggle/input/videotest/bubble1.mp4: 384x640 (no detections), 10.1ms\n",
      "video 1/1 (frame 560/910) /kaggle/input/videotest/bubble1.mp4: 384x640 (no detections), 10.5ms\n",
      "video 1/1 (frame 561/910) /kaggle/input/videotest/bubble1.mp4: 384x640 (no detections), 10.2ms\n",
      "video 1/1 (frame 562/910) /kaggle/input/videotest/bubble1.mp4: 384x640 (no detections), 10.1ms\n",
      "video 1/1 (frame 563/910) /kaggle/input/videotest/bubble1.mp4: 384x640 (no detections), 10.0ms\n",
      "video 1/1 (frame 564/910) /kaggle/input/videotest/bubble1.mp4: 384x640 (no detections), 10.3ms\n",
      "video 1/1 (frame 565/910) /kaggle/input/videotest/bubble1.mp4: 384x640 (no detections), 10.3ms\n",
      "video 1/1 (frame 566/910) /kaggle/input/videotest/bubble1.mp4: 384x640 (no detections), 10.1ms\n",
      "video 1/1 (frame 567/910) /kaggle/input/videotest/bubble1.mp4: 384x640 (no detections), 10.1ms\n",
      "video 1/1 (frame 568/910) /kaggle/input/videotest/bubble1.mp4: 384x640 (no detections), 10.2ms\n",
      "video 1/1 (frame 569/910) /kaggle/input/videotest/bubble1.mp4: 384x640 1 bubble, 10.2ms\n",
      "video 1/1 (frame 570/910) /kaggle/input/videotest/bubble1.mp4: 384x640 1 bubble, 10.2ms\n",
      "video 1/1 (frame 571/910) /kaggle/input/videotest/bubble1.mp4: 384x640 (no detections), 10.1ms\n",
      "video 1/1 (frame 572/910) /kaggle/input/videotest/bubble1.mp4: 384x640 (no detections), 12.4ms\n",
      "video 1/1 (frame 573/910) /kaggle/input/videotest/bubble1.mp4: 384x640 (no detections), 11.4ms\n",
      "video 1/1 (frame 574/910) /kaggle/input/videotest/bubble1.mp4: 384x640 (no detections), 10.3ms\n",
      "video 1/1 (frame 575/910) /kaggle/input/videotest/bubble1.mp4: 384x640 1 bubble, 14.2ms\n",
      "video 1/1 (frame 576/910) /kaggle/input/videotest/bubble1.mp4: 384x640 (no detections), 10.8ms\n",
      "video 1/1 (frame 577/910) /kaggle/input/videotest/bubble1.mp4: 384x640 (no detections), 10.5ms\n",
      "video 1/1 (frame 578/910) /kaggle/input/videotest/bubble1.mp4: 384x640 (no detections), 10.8ms\n",
      "video 1/1 (frame 579/910) /kaggle/input/videotest/bubble1.mp4: 384x640 (no detections), 10.4ms\n",
      "video 1/1 (frame 580/910) /kaggle/input/videotest/bubble1.mp4: 384x640 (no detections), 14.3ms\n",
      "video 1/1 (frame 581/910) /kaggle/input/videotest/bubble1.mp4: 384x640 (no detections), 10.4ms\n",
      "video 1/1 (frame 582/910) /kaggle/input/videotest/bubble1.mp4: 384x640 (no detections), 10.3ms\n",
      "video 1/1 (frame 583/910) /kaggle/input/videotest/bubble1.mp4: 384x640 (no detections), 13.1ms\n",
      "video 1/1 (frame 584/910) /kaggle/input/videotest/bubble1.mp4: 384x640 (no detections), 10.3ms\n",
      "video 1/1 (frame 585/910) /kaggle/input/videotest/bubble1.mp4: 384x640 (no detections), 10.3ms\n",
      "video 1/1 (frame 586/910) /kaggle/input/videotest/bubble1.mp4: 384x640 (no detections), 10.8ms\n",
      "video 1/1 (frame 587/910) /kaggle/input/videotest/bubble1.mp4: 384x640 (no detections), 10.4ms\n",
      "video 1/1 (frame 588/910) /kaggle/input/videotest/bubble1.mp4: 384x640 (no detections), 10.3ms\n",
      "video 1/1 (frame 589/910) /kaggle/input/videotest/bubble1.mp4: 384x640 (no detections), 12.8ms\n",
      "video 1/1 (frame 590/910) /kaggle/input/videotest/bubble1.mp4: 384x640 (no detections), 10.2ms\n",
      "video 1/1 (frame 591/910) /kaggle/input/videotest/bubble1.mp4: 384x640 (no detections), 10.3ms\n",
      "video 1/1 (frame 592/910) /kaggle/input/videotest/bubble1.mp4: 384x640 (no detections), 10.1ms\n",
      "video 1/1 (frame 593/910) /kaggle/input/videotest/bubble1.mp4: 384x640 (no detections), 10.5ms\n",
      "video 1/1 (frame 594/910) /kaggle/input/videotest/bubble1.mp4: 384x640 (no detections), 14.2ms\n",
      "video 1/1 (frame 595/910) /kaggle/input/videotest/bubble1.mp4: 384x640 (no detections), 14.2ms\n",
      "video 1/1 (frame 596/910) /kaggle/input/videotest/bubble1.mp4: 384x640 (no detections), 10.4ms\n",
      "video 1/1 (frame 597/910) /kaggle/input/videotest/bubble1.mp4: 384x640 (no detections), 14.0ms\n",
      "video 1/1 (frame 598/910) /kaggle/input/videotest/bubble1.mp4: 384x640 (no detections), 10.3ms\n",
      "video 1/1 (frame 599/910) /kaggle/input/videotest/bubble1.mp4: 384x640 (no detections), 10.3ms\n",
      "video 1/1 (frame 600/910) /kaggle/input/videotest/bubble1.mp4: 384x640 (no detections), 13.8ms\n",
      "video 1/1 (frame 601/910) /kaggle/input/videotest/bubble1.mp4: 384x640 (no detections), 13.0ms\n",
      "video 1/1 (frame 602/910) /kaggle/input/videotest/bubble1.mp4: 384x640 (no detections), 10.5ms\n",
      "video 1/1 (frame 603/910) /kaggle/input/videotest/bubble1.mp4: 384x640 (no detections), 14.4ms\n",
      "video 1/1 (frame 604/910) /kaggle/input/videotest/bubble1.mp4: 384x640 (no detections), 11.0ms\n",
      "video 1/1 (frame 605/910) /kaggle/input/videotest/bubble1.mp4: 384x640 (no detections), 10.6ms\n",
      "video 1/1 (frame 606/910) /kaggle/input/videotest/bubble1.mp4: 384x640 (no detections), 13.0ms\n",
      "video 1/1 (frame 607/910) /kaggle/input/videotest/bubble1.mp4: 384x640 (no detections), 13.0ms\n",
      "video 1/1 (frame 608/910) /kaggle/input/videotest/bubble1.mp4: 384x640 (no detections), 13.0ms\n",
      "video 1/1 (frame 609/910) /kaggle/input/videotest/bubble1.mp4: 384x640 1 bubble, 14.2ms\n",
      "video 1/1 (frame 610/910) /kaggle/input/videotest/bubble1.mp4: 384x640 (no detections), 10.6ms\n",
      "video 1/1 (frame 611/910) /kaggle/input/videotest/bubble1.mp4: 384x640 (no detections), 14.4ms\n",
      "video 1/1 (frame 612/910) /kaggle/input/videotest/bubble1.mp4: 384x640 (no detections), 10.4ms\n",
      "video 1/1 (frame 613/910) /kaggle/input/videotest/bubble1.mp4: 384x640 (no detections), 13.5ms\n",
      "video 1/1 (frame 614/910) /kaggle/input/videotest/bubble1.mp4: 384x640 (no detections), 12.7ms\n",
      "video 1/1 (frame 615/910) /kaggle/input/videotest/bubble1.mp4: 384x640 (no detections), 10.6ms\n",
      "video 1/1 (frame 616/910) /kaggle/input/videotest/bubble1.mp4: 384x640 (no detections), 10.9ms\n",
      "video 1/1 (frame 617/910) /kaggle/input/videotest/bubble1.mp4: 384x640 (no detections), 10.4ms\n",
      "video 1/1 (frame 618/910) /kaggle/input/videotest/bubble1.mp4: 384x640 (no detections), 10.5ms\n",
      "video 1/1 (frame 619/910) /kaggle/input/videotest/bubble1.mp4: 384x640 (no detections), 10.5ms\n",
      "video 1/1 (frame 620/910) /kaggle/input/videotest/bubble1.mp4: 384x640 (no detections), 10.3ms\n",
      "video 1/1 (frame 621/910) /kaggle/input/videotest/bubble1.mp4: 384x640 (no detections), 10.2ms\n",
      "video 1/1 (frame 622/910) /kaggle/input/videotest/bubble1.mp4: 384x640 (no detections), 10.3ms\n",
      "video 1/1 (frame 623/910) /kaggle/input/videotest/bubble1.mp4: 384x640 (no detections), 10.8ms\n",
      "video 1/1 (frame 624/910) /kaggle/input/videotest/bubble1.mp4: 384x640 (no detections), 10.1ms\n",
      "video 1/1 (frame 625/910) /kaggle/input/videotest/bubble1.mp4: 384x640 (no detections), 13.7ms\n",
      "video 1/1 (frame 626/910) /kaggle/input/videotest/bubble1.mp4: 384x640 (no detections), 10.1ms\n",
      "video 1/1 (frame 627/910) /kaggle/input/videotest/bubble1.mp4: 384x640 (no detections), 10.8ms\n",
      "video 1/1 (frame 628/910) /kaggle/input/videotest/bubble1.mp4: 384x640 (no detections), 10.6ms\n",
      "video 1/1 (frame 629/910) /kaggle/input/videotest/bubble1.mp4: 384x640 (no detections), 13.5ms\n",
      "video 1/1 (frame 630/910) /kaggle/input/videotest/bubble1.mp4: 384x640 1 bubble, 14.9ms\n",
      "video 1/1 (frame 631/910) /kaggle/input/videotest/bubble1.mp4: 384x640 1 bubble, 12.4ms\n",
      "video 1/1 (frame 632/910) /kaggle/input/videotest/bubble1.mp4: 384x640 (no detections), 10.5ms\n",
      "video 1/1 (frame 633/910) /kaggle/input/videotest/bubble1.mp4: 384x640 (no detections), 10.3ms\n",
      "video 1/1 (frame 634/910) /kaggle/input/videotest/bubble1.mp4: 384x640 (no detections), 10.3ms\n",
      "video 1/1 (frame 635/910) /kaggle/input/videotest/bubble1.mp4: 384x640 (no detections), 10.8ms\n",
      "video 1/1 (frame 636/910) /kaggle/input/videotest/bubble1.mp4: 384x640 (no detections), 13.5ms\n",
      "video 1/1 (frame 637/910) /kaggle/input/videotest/bubble1.mp4: 384x640 (no detections), 10.8ms\n",
      "video 1/1 (frame 638/910) /kaggle/input/videotest/bubble1.mp4: 384x640 (no detections), 12.3ms\n",
      "video 1/1 (frame 639/910) /kaggle/input/videotest/bubble1.mp4: 384x640 (no detections), 11.2ms\n",
      "video 1/1 (frame 640/910) /kaggle/input/videotest/bubble1.mp4: 384x640 (no detections), 10.3ms\n",
      "video 1/1 (frame 641/910) /kaggle/input/videotest/bubble1.mp4: 384x640 (no detections), 10.3ms\n",
      "video 1/1 (frame 642/910) /kaggle/input/videotest/bubble1.mp4: 384x640 (no detections), 10.6ms\n",
      "video 1/1 (frame 643/910) /kaggle/input/videotest/bubble1.mp4: 384x640 (no detections), 13.9ms\n",
      "video 1/1 (frame 644/910) /kaggle/input/videotest/bubble1.mp4: 384x640 (no detections), 10.2ms\n",
      "video 1/1 (frame 645/910) /kaggle/input/videotest/bubble1.mp4: 384x640 (no detections), 13.5ms\n",
      "video 1/1 (frame 646/910) /kaggle/input/videotest/bubble1.mp4: 384x640 (no detections), 10.4ms\n",
      "video 1/1 (frame 647/910) /kaggle/input/videotest/bubble1.mp4: 384x640 (no detections), 10.3ms\n",
      "video 1/1 (frame 648/910) /kaggle/input/videotest/bubble1.mp4: 384x640 (no detections), 12.3ms\n",
      "video 1/1 (frame 649/910) /kaggle/input/videotest/bubble1.mp4: 384x640 (no detections), 10.6ms\n",
      "video 1/1 (frame 650/910) /kaggle/input/videotest/bubble1.mp4: 384x640 (no detections), 10.4ms\n",
      "video 1/1 (frame 651/910) /kaggle/input/videotest/bubble1.mp4: 384x640 (no detections), 11.5ms\n",
      "video 1/1 (frame 652/910) /kaggle/input/videotest/bubble1.mp4: 384x640 (no detections), 10.6ms\n",
      "video 1/1 (frame 653/910) /kaggle/input/videotest/bubble1.mp4: 384x640 (no detections), 10.4ms\n",
      "video 1/1 (frame 654/910) /kaggle/input/videotest/bubble1.mp4: 384x640 (no detections), 10.4ms\n",
      "video 1/1 (frame 655/910) /kaggle/input/videotest/bubble1.mp4: 384x640 (no detections), 11.0ms\n",
      "video 1/1 (frame 656/910) /kaggle/input/videotest/bubble1.mp4: 384x640 (no detections), 13.9ms\n",
      "video 1/1 (frame 657/910) /kaggle/input/videotest/bubble1.mp4: 384x640 (no detections), 10.6ms\n",
      "video 1/1 (frame 658/910) /kaggle/input/videotest/bubble1.mp4: 384x640 (no detections), 13.7ms\n",
      "video 1/1 (frame 659/910) /kaggle/input/videotest/bubble1.mp4: 384x640 (no detections), 14.0ms\n",
      "video 1/1 (frame 660/910) /kaggle/input/videotest/bubble1.mp4: 384x640 (no detections), 10.5ms\n",
      "video 1/1 (frame 661/910) /kaggle/input/videotest/bubble1.mp4: 384x640 (no detections), 10.5ms\n",
      "video 1/1 (frame 662/910) /kaggle/input/videotest/bubble1.mp4: 384x640 (no detections), 10.3ms\n",
      "video 1/1 (frame 663/910) /kaggle/input/videotest/bubble1.mp4: 384x640 (no detections), 13.1ms\n",
      "video 1/1 (frame 664/910) /kaggle/input/videotest/bubble1.mp4: 384x640 (no detections), 13.4ms\n",
      "video 1/1 (frame 665/910) /kaggle/input/videotest/bubble1.mp4: 384x640 (no detections), 16.7ms\n",
      "video 1/1 (frame 666/910) /kaggle/input/videotest/bubble1.mp4: 384x640 (no detections), 13.2ms\n",
      "video 1/1 (frame 667/910) /kaggle/input/videotest/bubble1.mp4: 384x640 (no detections), 13.0ms\n",
      "video 1/1 (frame 668/910) /kaggle/input/videotest/bubble1.mp4: 384x640 (no detections), 14.0ms\n",
      "video 1/1 (frame 669/910) /kaggle/input/videotest/bubble1.mp4: 384x640 (no detections), 12.4ms\n",
      "video 1/1 (frame 670/910) /kaggle/input/videotest/bubble1.mp4: 384x640 (no detections), 14.7ms\n",
      "video 1/1 (frame 671/910) /kaggle/input/videotest/bubble1.mp4: 384x640 (no detections), 14.5ms\n",
      "video 1/1 (frame 672/910) /kaggle/input/videotest/bubble1.mp4: 384x640 (no detections), 13.8ms\n",
      "video 1/1 (frame 673/910) /kaggle/input/videotest/bubble1.mp4: 384x640 (no detections), 10.6ms\n",
      "video 1/1 (frame 674/910) /kaggle/input/videotest/bubble1.mp4: 384x640 (no detections), 13.8ms\n",
      "video 1/1 (frame 675/910) /kaggle/input/videotest/bubble1.mp4: 384x640 (no detections), 13.7ms\n",
      "video 1/1 (frame 676/910) /kaggle/input/videotest/bubble1.mp4: 384x640 (no detections), 13.8ms\n",
      "video 1/1 (frame 677/910) /kaggle/input/videotest/bubble1.mp4: 384x640 (no detections), 10.6ms\n",
      "video 1/1 (frame 678/910) /kaggle/input/videotest/bubble1.mp4: 384x640 (no detections), 13.8ms\n",
      "video 1/1 (frame 679/910) /kaggle/input/videotest/bubble1.mp4: 384x640 (no detections), 14.0ms\n",
      "video 1/1 (frame 680/910) /kaggle/input/videotest/bubble1.mp4: 384x640 (no detections), 13.8ms\n",
      "video 1/1 (frame 681/910) /kaggle/input/videotest/bubble1.mp4: 384x640 (no detections), 13.4ms\n",
      "video 1/1 (frame 682/910) /kaggle/input/videotest/bubble1.mp4: 384x640 (no detections), 11.1ms\n",
      "video 1/1 (frame 683/910) /kaggle/input/videotest/bubble1.mp4: 384x640 (no detections), 14.3ms\n",
      "video 1/1 (frame 684/910) /kaggle/input/videotest/bubble1.mp4: 384x640 (no detections), 13.9ms\n",
      "video 1/1 (frame 685/910) /kaggle/input/videotest/bubble1.mp4: 384x640 (no detections), 13.9ms\n",
      "video 1/1 (frame 686/910) /kaggle/input/videotest/bubble1.mp4: 384x640 (no detections), 10.1ms\n",
      "video 1/1 (frame 687/910) /kaggle/input/videotest/bubble1.mp4: 384x640 (no detections), 14.5ms\n",
      "video 1/1 (frame 688/910) /kaggle/input/videotest/bubble1.mp4: 384x640 (no detections), 13.5ms\n",
      "video 1/1 (frame 689/910) /kaggle/input/videotest/bubble1.mp4: 384x640 (no detections), 13.6ms\n",
      "video 1/1 (frame 690/910) /kaggle/input/videotest/bubble1.mp4: 384x640 (no detections), 13.7ms\n",
      "video 1/1 (frame 691/910) /kaggle/input/videotest/bubble1.mp4: 384x640 (no detections), 10.9ms\n",
      "video 1/1 (frame 692/910) /kaggle/input/videotest/bubble1.mp4: 384x640 (no detections), 14.6ms\n",
      "video 1/1 (frame 693/910) /kaggle/input/videotest/bubble1.mp4: 384x640 (no detections), 10.1ms\n",
      "video 1/1 (frame 694/910) /kaggle/input/videotest/bubble1.mp4: 384x640 (no detections), 15.1ms\n",
      "video 1/1 (frame 695/910) /kaggle/input/videotest/bubble1.mp4: 384x640 (no detections), 11.4ms\n",
      "video 1/1 (frame 696/910) /kaggle/input/videotest/bubble1.mp4: 384x640 (no detections), 14.9ms\n",
      "video 1/1 (frame 697/910) /kaggle/input/videotest/bubble1.mp4: 384x640 (no detections), 14.5ms\n",
      "video 1/1 (frame 698/910) /kaggle/input/videotest/bubble1.mp4: 384x640 (no detections), 14.4ms\n",
      "video 1/1 (frame 699/910) /kaggle/input/videotest/bubble1.mp4: 384x640 (no detections), 14.5ms\n",
      "video 1/1 (frame 700/910) /kaggle/input/videotest/bubble1.mp4: 384x640 (no detections), 10.2ms\n",
      "video 1/1 (frame 701/910) /kaggle/input/videotest/bubble1.mp4: 384x640 (no detections), 13.2ms\n",
      "video 1/1 (frame 702/910) /kaggle/input/videotest/bubble1.mp4: 384x640 (no detections), 16.8ms\n",
      "video 1/1 (frame 703/910) /kaggle/input/videotest/bubble1.mp4: 384x640 (no detections), 13.4ms\n",
      "video 1/1 (frame 704/910) /kaggle/input/videotest/bubble1.mp4: 384x640 (no detections), 10.2ms\n",
      "video 1/1 (frame 705/910) /kaggle/input/videotest/bubble1.mp4: 384x640 (no detections), 14.0ms\n",
      "video 1/1 (frame 706/910) /kaggle/input/videotest/bubble1.mp4: 384x640 (no detections), 14.1ms\n",
      "video 1/1 (frame 707/910) /kaggle/input/videotest/bubble1.mp4: 384x640 (no detections), 14.2ms\n",
      "video 1/1 (frame 708/910) /kaggle/input/videotest/bubble1.mp4: 384x640 (no detections), 10.6ms\n",
      "video 1/1 (frame 709/910) /kaggle/input/videotest/bubble1.mp4: 384x640 (no detections), 14.8ms\n",
      "video 1/1 (frame 710/910) /kaggle/input/videotest/bubble1.mp4: 384x640 (no detections), 14.5ms\n",
      "video 1/1 (frame 711/910) /kaggle/input/videotest/bubble1.mp4: 384x640 (no detections), 10.8ms\n",
      "video 1/1 (frame 712/910) /kaggle/input/videotest/bubble1.mp4: 384x640 (no detections), 11.0ms\n",
      "video 1/1 (frame 713/910) /kaggle/input/videotest/bubble1.mp4: 384x640 (no detections), 13.9ms\n",
      "video 1/1 (frame 714/910) /kaggle/input/videotest/bubble1.mp4: 384x640 (no detections), 10.6ms\n",
      "video 1/1 (frame 715/910) /kaggle/input/videotest/bubble1.mp4: 384x640 (no detections), 10.8ms\n",
      "video 1/1 (frame 716/910) /kaggle/input/videotest/bubble1.mp4: 384x640 (no detections), 13.5ms\n",
      "video 1/1 (frame 717/910) /kaggle/input/videotest/bubble1.mp4: 384x640 (no detections), 10.7ms\n",
      "video 1/1 (frame 718/910) /kaggle/input/videotest/bubble1.mp4: 384x640 (no detections), 10.7ms\n",
      "video 1/1 (frame 719/910) /kaggle/input/videotest/bubble1.mp4: 384x640 (no detections), 10.5ms\n",
      "video 1/1 (frame 720/910) /kaggle/input/videotest/bubble1.mp4: 384x640 (no detections), 11.7ms\n",
      "video 1/1 (frame 721/910) /kaggle/input/videotest/bubble1.mp4: 384x640 (no detections), 10.8ms\n",
      "video 1/1 (frame 722/910) /kaggle/input/videotest/bubble1.mp4: 384x640 (no detections), 10.6ms\n",
      "video 1/1 (frame 723/910) /kaggle/input/videotest/bubble1.mp4: 384x640 (no detections), 10.2ms\n",
      "video 1/1 (frame 724/910) /kaggle/input/videotest/bubble1.mp4: 384x640 (no detections), 13.3ms\n",
      "video 1/1 (frame 725/910) /kaggle/input/videotest/bubble1.mp4: 384x640 (no detections), 10.2ms\n",
      "video 1/1 (frame 726/910) /kaggle/input/videotest/bubble1.mp4: 384x640 1 bubble, 13.0ms\n",
      "video 1/1 (frame 727/910) /kaggle/input/videotest/bubble1.mp4: 384x640 (no detections), 13.8ms\n",
      "video 1/1 (frame 728/910) /kaggle/input/videotest/bubble1.mp4: 384x640 (no detections), 14.3ms\n",
      "video 1/1 (frame 729/910) /kaggle/input/videotest/bubble1.mp4: 384x640 (no detections), 14.4ms\n",
      "video 1/1 (frame 730/910) /kaggle/input/videotest/bubble1.mp4: 384x640 (no detections), 14.3ms\n",
      "video 1/1 (frame 731/910) /kaggle/input/videotest/bubble1.mp4: 384x640 (no detections), 15.8ms\n",
      "video 1/1 (frame 732/910) /kaggle/input/videotest/bubble1.mp4: 384x640 (no detections), 14.0ms\n",
      "video 1/1 (frame 733/910) /kaggle/input/videotest/bubble1.mp4: 384x640 (no detections), 13.9ms\n",
      "video 1/1 (frame 734/910) /kaggle/input/videotest/bubble1.mp4: 384x640 (no detections), 13.9ms\n",
      "video 1/1 (frame 735/910) /kaggle/input/videotest/bubble1.mp4: 384x640 (no detections), 13.8ms\n",
      "video 1/1 (frame 736/910) /kaggle/input/videotest/bubble1.mp4: 384x640 (no detections), 13.6ms\n",
      "video 1/1 (frame 737/910) /kaggle/input/videotest/bubble1.mp4: 384x640 (no detections), 10.6ms\n",
      "video 1/1 (frame 738/910) /kaggle/input/videotest/bubble1.mp4: 384x640 1 bubble, 13.5ms\n",
      "video 1/1 (frame 739/910) /kaggle/input/videotest/bubble1.mp4: 384x640 1 bubble, 14.0ms\n",
      "video 1/1 (frame 740/910) /kaggle/input/videotest/bubble1.mp4: 384x640 1 bubble, 14.5ms\n",
      "video 1/1 (frame 741/910) /kaggle/input/videotest/bubble1.mp4: 384x640 (no detections), 13.9ms\n",
      "video 1/1 (frame 742/910) /kaggle/input/videotest/bubble1.mp4: 384x640 (no detections), 21.0ms\n",
      "video 1/1 (frame 743/910) /kaggle/input/videotest/bubble1.mp4: 384x640 (no detections), 14.4ms\n",
      "video 1/1 (frame 744/910) /kaggle/input/videotest/bubble1.mp4: 384x640 (no detections), 16.1ms\n",
      "video 1/1 (frame 745/910) /kaggle/input/videotest/bubble1.mp4: 384x640 (no detections), 14.0ms\n",
      "video 1/1 (frame 746/910) /kaggle/input/videotest/bubble1.mp4: 384x640 (no detections), 14.5ms\n",
      "video 1/1 (frame 747/910) /kaggle/input/videotest/bubble1.mp4: 384x640 (no detections), 13.7ms\n",
      "video 1/1 (frame 748/910) /kaggle/input/videotest/bubble1.mp4: 384x640 (no detections), 13.8ms\n",
      "video 1/1 (frame 749/910) /kaggle/input/videotest/bubble1.mp4: 384x640 (no detections), 13.4ms\n",
      "video 1/1 (frame 750/910) /kaggle/input/videotest/bubble1.mp4: 384x640 (no detections), 10.8ms\n",
      "video 1/1 (frame 751/910) /kaggle/input/videotest/bubble1.mp4: 384x640 (no detections), 13.3ms\n",
      "video 1/1 (frame 752/910) /kaggle/input/videotest/bubble1.mp4: 384x640 (no detections), 13.5ms\n",
      "video 1/1 (frame 753/910) /kaggle/input/videotest/bubble1.mp4: 384x640 (no detections), 10.5ms\n",
      "video 1/1 (frame 754/910) /kaggle/input/videotest/bubble1.mp4: 384x640 (no detections), 13.6ms\n",
      "video 1/1 (frame 755/910) /kaggle/input/videotest/bubble1.mp4: 384x640 (no detections), 13.7ms\n",
      "video 1/1 (frame 756/910) /kaggle/input/videotest/bubble1.mp4: 384x640 (no detections), 13.4ms\n",
      "video 1/1 (frame 757/910) /kaggle/input/videotest/bubble1.mp4: 384x640 (no detections), 13.6ms\n",
      "video 1/1 (frame 758/910) /kaggle/input/videotest/bubble1.mp4: 384x640 (no detections), 11.3ms\n",
      "video 1/1 (frame 759/910) /kaggle/input/videotest/bubble1.mp4: 384x640 (no detections), 14.6ms\n",
      "video 1/1 (frame 760/910) /kaggle/input/videotest/bubble1.mp4: 384x640 (no detections), 13.9ms\n",
      "video 1/1 (frame 761/910) /kaggle/input/videotest/bubble1.mp4: 384x640 (no detections), 13.8ms\n",
      "video 1/1 (frame 762/910) /kaggle/input/videotest/bubble1.mp4: 384x640 (no detections), 10.6ms\n",
      "video 1/1 (frame 763/910) /kaggle/input/videotest/bubble1.mp4: 384x640 (no detections), 10.2ms\n",
      "video 1/1 (frame 764/910) /kaggle/input/videotest/bubble1.mp4: 384x640 (no detections), 10.3ms\n",
      "video 1/1 (frame 765/910) /kaggle/input/videotest/bubble1.mp4: 384x640 (no detections), 10.7ms\n",
      "video 1/1 (frame 766/910) /kaggle/input/videotest/bubble1.mp4: 384x640 (no detections), 13.2ms\n",
      "video 1/1 (frame 767/910) /kaggle/input/videotest/bubble1.mp4: 384x640 (no detections), 10.1ms\n",
      "video 1/1 (frame 768/910) /kaggle/input/videotest/bubble1.mp4: 384x640 (no detections), 13.0ms\n",
      "video 1/1 (frame 769/910) /kaggle/input/videotest/bubble1.mp4: 384x640 (no detections), 10.5ms\n",
      "video 1/1 (frame 770/910) /kaggle/input/videotest/bubble1.mp4: 384x640 (no detections), 13.1ms\n",
      "video 1/1 (frame 771/910) /kaggle/input/videotest/bubble1.mp4: 384x640 (no detections), 10.8ms\n",
      "video 1/1 (frame 772/910) /kaggle/input/videotest/bubble1.mp4: 384x640 (no detections), 10.8ms\n",
      "video 1/1 (frame 773/910) /kaggle/input/videotest/bubble1.mp4: 384x640 (no detections), 10.6ms\n",
      "video 1/1 (frame 774/910) /kaggle/input/videotest/bubble1.mp4: 384x640 (no detections), 10.4ms\n",
      "video 1/1 (frame 775/910) /kaggle/input/videotest/bubble1.mp4: 384x640 (no detections), 10.3ms\n",
      "video 1/1 (frame 776/910) /kaggle/input/videotest/bubble1.mp4: 384x640 (no detections), 10.7ms\n",
      "video 1/1 (frame 777/910) /kaggle/input/videotest/bubble1.mp4: 384x640 (no detections), 11.2ms\n",
      "video 1/1 (frame 778/910) /kaggle/input/videotest/bubble1.mp4: 384x640 (no detections), 10.2ms\n",
      "video 1/1 (frame 779/910) /kaggle/input/videotest/bubble1.mp4: 384x640 (no detections), 10.5ms\n",
      "video 1/1 (frame 780/910) /kaggle/input/videotest/bubble1.mp4: 384x640 (no detections), 10.2ms\n",
      "video 1/1 (frame 781/910) /kaggle/input/videotest/bubble1.mp4: 384x640 (no detections), 12.7ms\n",
      "video 1/1 (frame 782/910) /kaggle/input/videotest/bubble1.mp4: 384x640 (no detections), 14.4ms\n",
      "video 1/1 (frame 783/910) /kaggle/input/videotest/bubble1.mp4: 384x640 (no detections), 10.3ms\n",
      "video 1/1 (frame 784/910) /kaggle/input/videotest/bubble1.mp4: 384x640 (no detections), 11.3ms\n",
      "video 1/1 (frame 785/910) /kaggle/input/videotest/bubble1.mp4: 384x640 (no detections), 10.6ms\n",
      "video 1/1 (frame 786/910) /kaggle/input/videotest/bubble1.mp4: 384x640 (no detections), 10.3ms\n",
      "video 1/1 (frame 787/910) /kaggle/input/videotest/bubble1.mp4: 384x640 (no detections), 10.7ms\n",
      "video 1/1 (frame 788/910) /kaggle/input/videotest/bubble1.mp4: 384x640 (no detections), 11.0ms\n",
      "video 1/1 (frame 789/910) /kaggle/input/videotest/bubble1.mp4: 384x640 (no detections), 10.5ms\n",
      "video 1/1 (frame 790/910) /kaggle/input/videotest/bubble1.mp4: 384x640 (no detections), 10.8ms\n",
      "video 1/1 (frame 791/910) /kaggle/input/videotest/bubble1.mp4: 384x640 (no detections), 10.5ms\n",
      "video 1/1 (frame 792/910) /kaggle/input/videotest/bubble1.mp4: 384x640 (no detections), 10.3ms\n",
      "video 1/1 (frame 793/910) /kaggle/input/videotest/bubble1.mp4: 384x640 (no detections), 10.1ms\n",
      "video 1/1 (frame 794/910) /kaggle/input/videotest/bubble1.mp4: 384x640 (no detections), 12.8ms\n",
      "video 1/1 (frame 795/910) /kaggle/input/videotest/bubble1.mp4: 384x640 (no detections), 10.2ms\n",
      "video 1/1 (frame 796/910) /kaggle/input/videotest/bubble1.mp4: 384x640 (no detections), 10.4ms\n",
      "video 1/1 (frame 797/910) /kaggle/input/videotest/bubble1.mp4: 384x640 (no detections), 10.4ms\n",
      "video 1/1 (frame 798/910) /kaggle/input/videotest/bubble1.mp4: 384x640 (no detections), 10.5ms\n",
      "video 1/1 (frame 799/910) /kaggle/input/videotest/bubble1.mp4: 384x640 (no detections), 10.6ms\n",
      "video 1/1 (frame 800/910) /kaggle/input/videotest/bubble1.mp4: 384x640 (no detections), 10.1ms\n",
      "video 1/1 (frame 801/910) /kaggle/input/videotest/bubble1.mp4: 384x640 (no detections), 10.4ms\n",
      "video 1/1 (frame 802/910) /kaggle/input/videotest/bubble1.mp4: 384x640 (no detections), 12.9ms\n",
      "video 1/1 (frame 803/910) /kaggle/input/videotest/bubble1.mp4: 384x640 (no detections), 13.3ms\n",
      "video 1/1 (frame 804/910) /kaggle/input/videotest/bubble1.mp4: 384x640 (no detections), 10.1ms\n",
      "video 1/1 (frame 805/910) /kaggle/input/videotest/bubble1.mp4: 384x640 (no detections), 10.1ms\n",
      "video 1/1 (frame 806/910) /kaggle/input/videotest/bubble1.mp4: 384x640 (no detections), 10.6ms\n",
      "video 1/1 (frame 807/910) /kaggle/input/videotest/bubble1.mp4: 384x640 (no detections), 10.2ms\n",
      "video 1/1 (frame 808/910) /kaggle/input/videotest/bubble1.mp4: 384x640 (no detections), 13.6ms\n",
      "video 1/1 (frame 809/910) /kaggle/input/videotest/bubble1.mp4: 384x640 (no detections), 10.6ms\n",
      "video 1/1 (frame 810/910) /kaggle/input/videotest/bubble1.mp4: 384x640 (no detections), 13.7ms\n",
      "video 1/1 (frame 811/910) /kaggle/input/videotest/bubble1.mp4: 384x640 (no detections), 13.6ms\n",
      "video 1/1 (frame 812/910) /kaggle/input/videotest/bubble1.mp4: 384x640 (no detections), 10.9ms\n",
      "video 1/1 (frame 813/910) /kaggle/input/videotest/bubble1.mp4: 384x640 (no detections), 13.1ms\n",
      "video 1/1 (frame 814/910) /kaggle/input/videotest/bubble1.mp4: 384x640 (no detections), 11.4ms\n",
      "video 1/1 (frame 815/910) /kaggle/input/videotest/bubble1.mp4: 384x640 (no detections), 10.3ms\n",
      "video 1/1 (frame 816/910) /kaggle/input/videotest/bubble1.mp4: 384x640 (no detections), 15.8ms\n",
      "video 1/1 (frame 817/910) /kaggle/input/videotest/bubble1.mp4: 384x640 (no detections), 10.3ms\n",
      "video 1/1 (frame 818/910) /kaggle/input/videotest/bubble1.mp4: 384x640 (no detections), 10.1ms\n",
      "video 1/1 (frame 819/910) /kaggle/input/videotest/bubble1.mp4: 384x640 (no detections), 10.2ms\n",
      "video 1/1 (frame 820/910) /kaggle/input/videotest/bubble1.mp4: 384x640 (no detections), 13.3ms\n",
      "video 1/1 (frame 821/910) /kaggle/input/videotest/bubble1.mp4: 384x640 (no detections), 14.3ms\n",
      "video 1/1 (frame 822/910) /kaggle/input/videotest/bubble1.mp4: 384x640 (no detections), 10.1ms\n",
      "video 1/1 (frame 823/910) /kaggle/input/videotest/bubble1.mp4: 384x640 (no detections), 11.0ms\n",
      "video 1/1 (frame 824/910) /kaggle/input/videotest/bubble1.mp4: 384x640 (no detections), 10.4ms\n",
      "video 1/1 (frame 825/910) /kaggle/input/videotest/bubble1.mp4: 384x640 (no detections), 13.4ms\n",
      "video 1/1 (frame 826/910) /kaggle/input/videotest/bubble1.mp4: 384x640 (no detections), 10.1ms\n",
      "video 1/1 (frame 827/910) /kaggle/input/videotest/bubble1.mp4: 384x640 (no detections), 10.1ms\n",
      "video 1/1 (frame 828/910) /kaggle/input/videotest/bubble1.mp4: 384x640 (no detections), 13.8ms\n",
      "video 1/1 (frame 829/910) /kaggle/input/videotest/bubble1.mp4: 384x640 (no detections), 12.2ms\n",
      "video 1/1 (frame 830/910) /kaggle/input/videotest/bubble1.mp4: 384x640 (no detections), 10.7ms\n",
      "video 1/1 (frame 831/910) /kaggle/input/videotest/bubble1.mp4: 384x640 (no detections), 11.3ms\n",
      "video 1/1 (frame 832/910) /kaggle/input/videotest/bubble1.mp4: 384x640 (no detections), 10.9ms\n",
      "video 1/1 (frame 833/910) /kaggle/input/videotest/bubble1.mp4: 384x640 (no detections), 13.4ms\n",
      "video 1/1 (frame 834/910) /kaggle/input/videotest/bubble1.mp4: 384x640 (no detections), 11.0ms\n",
      "video 1/1 (frame 835/910) /kaggle/input/videotest/bubble1.mp4: 384x640 (no detections), 11.7ms\n",
      "video 1/1 (frame 836/910) /kaggle/input/videotest/bubble1.mp4: 384x640 (no detections), 15.2ms\n",
      "video 1/1 (frame 837/910) /kaggle/input/videotest/bubble1.mp4: 384x640 (no detections), 10.4ms\n",
      "video 1/1 (frame 838/910) /kaggle/input/videotest/bubble1.mp4: 384x640 (no detections), 10.3ms\n",
      "video 1/1 (frame 839/910) /kaggle/input/videotest/bubble1.mp4: 384x640 (no detections), 10.2ms\n",
      "video 1/1 (frame 840/910) /kaggle/input/videotest/bubble1.mp4: 384x640 (no detections), 10.5ms\n",
      "video 1/1 (frame 841/910) /kaggle/input/videotest/bubble1.mp4: 384x640 (no detections), 10.4ms\n",
      "video 1/1 (frame 842/910) /kaggle/input/videotest/bubble1.mp4: 384x640 (no detections), 10.8ms\n",
      "video 1/1 (frame 843/910) /kaggle/input/videotest/bubble1.mp4: 384x640 (no detections), 13.2ms\n",
      "video 1/1 (frame 844/910) /kaggle/input/videotest/bubble1.mp4: 384x640 (no detections), 16.5ms\n",
      "video 1/1 (frame 845/910) /kaggle/input/videotest/bubble1.mp4: 384x640 (no detections), 13.6ms\n",
      "video 1/1 (frame 846/910) /kaggle/input/videotest/bubble1.mp4: 384x640 (no detections), 10.3ms\n",
      "video 1/1 (frame 847/910) /kaggle/input/videotest/bubble1.mp4: 384x640 (no detections), 10.4ms\n",
      "video 1/1 (frame 848/910) /kaggle/input/videotest/bubble1.mp4: 384x640 (no detections), 15.2ms\n",
      "video 1/1 (frame 849/910) /kaggle/input/videotest/bubble1.mp4: 384x640 (no detections), 10.6ms\n",
      "video 1/1 (frame 850/910) /kaggle/input/videotest/bubble1.mp4: 384x640 (no detections), 10.7ms\n",
      "video 1/1 (frame 851/910) /kaggle/input/videotest/bubble1.mp4: 384x640 (no detections), 10.1ms\n",
      "video 1/1 (frame 852/910) /kaggle/input/videotest/bubble1.mp4: 384x640 (no detections), 10.0ms\n",
      "video 1/1 (frame 853/910) /kaggle/input/videotest/bubble1.mp4: 384x640 (no detections), 10.4ms\n",
      "video 1/1 (frame 854/910) /kaggle/input/videotest/bubble1.mp4: 384x640 (no detections), 10.5ms\n",
      "video 1/1 (frame 855/910) /kaggle/input/videotest/bubble1.mp4: 384x640 (no detections), 10.3ms\n",
      "video 1/1 (frame 856/910) /kaggle/input/videotest/bubble1.mp4: 384x640 (no detections), 10.3ms\n",
      "video 1/1 (frame 857/910) /kaggle/input/videotest/bubble1.mp4: 384x640 (no detections), 11.0ms\n",
      "video 1/1 (frame 858/910) /kaggle/input/videotest/bubble1.mp4: 384x640 (no detections), 10.3ms\n",
      "video 1/1 (frame 859/910) /kaggle/input/videotest/bubble1.mp4: 384x640 (no detections), 10.4ms\n",
      "video 1/1 (frame 860/910) /kaggle/input/videotest/bubble1.mp4: 384x640 (no detections), 10.6ms\n",
      "video 1/1 (frame 861/910) /kaggle/input/videotest/bubble1.mp4: 384x640 (no detections), 10.8ms\n",
      "video 1/1 (frame 862/910) /kaggle/input/videotest/bubble1.mp4: 384x640 (no detections), 10.3ms\n",
      "video 1/1 (frame 863/910) /kaggle/input/videotest/bubble1.mp4: 384x640 (no detections), 11.5ms\n",
      "video 1/1 (frame 864/910) /kaggle/input/videotest/bubble1.mp4: 384x640 (no detections), 13.8ms\n",
      "video 1/1 (frame 865/910) /kaggle/input/videotest/bubble1.mp4: 384x640 (no detections), 10.5ms\n",
      "video 1/1 (frame 866/910) /kaggle/input/videotest/bubble1.mp4: 384x640 (no detections), 11.0ms\n",
      "video 1/1 (frame 867/910) /kaggle/input/videotest/bubble1.mp4: 384x640 (no detections), 10.3ms\n",
      "video 1/1 (frame 868/910) /kaggle/input/videotest/bubble1.mp4: 384x640 (no detections), 10.3ms\n",
      "video 1/1 (frame 869/910) /kaggle/input/videotest/bubble1.mp4: 384x640 (no detections), 10.4ms\n",
      "video 1/1 (frame 870/910) /kaggle/input/videotest/bubble1.mp4: 384x640 (no detections), 10.3ms\n",
      "video 1/1 (frame 871/910) /kaggle/input/videotest/bubble1.mp4: 384x640 (no detections), 13.5ms\n",
      "video 1/1 (frame 872/910) /kaggle/input/videotest/bubble1.mp4: 384x640 (no detections), 10.1ms\n",
      "video 1/1 (frame 873/910) /kaggle/input/videotest/bubble1.mp4: 384x640 (no detections), 14.1ms\n",
      "video 1/1 (frame 874/910) /kaggle/input/videotest/bubble1.mp4: 384x640 (no detections), 13.4ms\n",
      "video 1/1 (frame 875/910) /kaggle/input/videotest/bubble1.mp4: 384x640 (no detections), 10.1ms\n",
      "video 1/1 (frame 876/910) /kaggle/input/videotest/bubble1.mp4: 384x640 (no detections), 10.3ms\n",
      "video 1/1 (frame 877/910) /kaggle/input/videotest/bubble1.mp4: 384x640 (no detections), 10.6ms\n",
      "video 1/1 (frame 878/910) /kaggle/input/videotest/bubble1.mp4: 384x640 (no detections), 10.3ms\n",
      "video 1/1 (frame 879/910) /kaggle/input/videotest/bubble1.mp4: 384x640 (no detections), 10.2ms\n",
      "video 1/1 (frame 880/910) /kaggle/input/videotest/bubble1.mp4: 384x640 (no detections), 10.2ms\n",
      "video 1/1 (frame 881/910) /kaggle/input/videotest/bubble1.mp4: 384x640 (no detections), 10.6ms\n",
      "video 1/1 (frame 882/910) /kaggle/input/videotest/bubble1.mp4: 384x640 (no detections), 12.1ms\n",
      "video 1/1 (frame 883/910) /kaggle/input/videotest/bubble1.mp4: 384x640 (no detections), 10.4ms\n",
      "video 1/1 (frame 884/910) /kaggle/input/videotest/bubble1.mp4: 384x640 (no detections), 14.5ms\n",
      "video 1/1 (frame 885/910) /kaggle/input/videotest/bubble1.mp4: 384x640 (no detections), 14.6ms\n",
      "video 1/1 (frame 886/910) /kaggle/input/videotest/bubble1.mp4: 384x640 1 bubble, 10.5ms\n",
      "video 1/1 (frame 887/910) /kaggle/input/videotest/bubble1.mp4: 384x640 5 bubbles, 10.4ms\n",
      "video 1/1 (frame 888/910) /kaggle/input/videotest/bubble1.mp4: 384x640 2 bubbles, 10.9ms\n",
      "video 1/1 (frame 889/910) /kaggle/input/videotest/bubble1.mp4: 384x640 2 bubbles, 10.3ms\n",
      "video 1/1 (frame 890/910) /kaggle/input/videotest/bubble1.mp4: 384x640 2 bubbles, 12.1ms\n",
      "video 1/1 (frame 891/910) /kaggle/input/videotest/bubble1.mp4: 384x640 2 bubbles, 10.2ms\n",
      "video 1/1 (frame 892/910) /kaggle/input/videotest/bubble1.mp4: 384x640 2 bubbles, 13.8ms\n",
      "video 1/1 (frame 893/910) /kaggle/input/videotest/bubble1.mp4: 384x640 2 bubbles, 10.2ms\n",
      "video 1/1 (frame 894/910) /kaggle/input/videotest/bubble1.mp4: 384x640 2 bubbles, 13.4ms\n",
      "video 1/1 (frame 895/910) /kaggle/input/videotest/bubble1.mp4: 384x640 2 bubbles, 13.8ms\n",
      "video 1/1 (frame 896/910) /kaggle/input/videotest/bubble1.mp4: 384x640 2 bubbles, 12.3ms\n",
      "video 1/1 (frame 897/910) /kaggle/input/videotest/bubble1.mp4: 384x640 2 bubbles, 13.3ms\n",
      "video 1/1 (frame 898/910) /kaggle/input/videotest/bubble1.mp4: 384x640 2 bubbles, 11.8ms\n",
      "video 1/1 (frame 899/910) /kaggle/input/videotest/bubble1.mp4: 384x640 2 bubbles, 10.5ms\n",
      "video 1/1 (frame 900/910) /kaggle/input/videotest/bubble1.mp4: 384x640 (no detections), 10.4ms\n",
      "video 1/1 (frame 901/910) /kaggle/input/videotest/bubble1.mp4: 384x640 (no detections), 10.2ms\n",
      "video 1/1 (frame 902/910) /kaggle/input/videotest/bubble1.mp4: 384x640 (no detections), 10.2ms\n",
      "video 1/1 (frame 903/910) /kaggle/input/videotest/bubble1.mp4: 384x640 1 bubble, 10.1ms\n",
      "video 1/1 (frame 904/910) /kaggle/input/videotest/bubble1.mp4: 384x640 (no detections), 10.4ms\n",
      "video 1/1 (frame 905/910) /kaggle/input/videotest/bubble1.mp4: 384x640 (no detections), 10.8ms\n",
      "video 1/1 (frame 906/910) /kaggle/input/videotest/bubble1.mp4: 384x640 (no detections), 10.6ms\n",
      "video 1/1 (frame 907/910) /kaggle/input/videotest/bubble1.mp4: 384x640 (no detections), 10.3ms\n",
      "video 1/1 (frame 908/910) /kaggle/input/videotest/bubble1.mp4: 384x640 (no detections), 10.4ms\n",
      "video 1/1 (frame 909/910) /kaggle/input/videotest/bubble1.mp4: 384x640 (no detections), 10.3ms\n",
      "video 1/1 (frame 910/910) /kaggle/input/videotest/bubble1.mp4: 384x640 (no detections), 10.4ms\n",
      "Speed: 2.3ms preprocess, 11.5ms inference, 0.4ms postprocess per image at shape (1, 3, 384, 640)\n",
      "Results saved to \u001b[1mruns/detect/predict\u001b[0m\n"
     ]
    }
   ],
   "source": [
    "# Load the best weights from training\n",
    "\n",
    "model = YOLO('/kaggle/working/runs/detect/train/weights/best.pt')\n",
    "\n",
    "\n",
    "\n",
    "# Perform inference on an image\n",
    "\n",
    "results = model.predict(source='/kaggle/input/bubbledataset/test/images/10098.jpg', save=True)\n",
    "\n",
    "\n",
    "\n",
    "# Perform inference on a video\n",
    "\n",
    "results = model.predict(source='/kaggle/input/videotest/bubble1.mp4',save=True)\n",
    "\n",
    "\n"
   ]
  }
 ],
 "metadata": {
  "accelerator": "GPU",
  "colab": {
   "authorship_tag": "ABX9TyO+fSM9B4VtqbAmXn3voSNb",
   "gpuType": "T4",
   "mount_file_id": "1TgigQozIfReFQvFomr7Ks1mZRjq5v1lh",
   "provenance": []
  },
  "kaggle": {
   "accelerator": "nvidiaTeslaT4",
   "dataSources": [
    {
     "datasetId": 6305494,
     "sourceId": 10203431,
     "sourceType": "datasetVersion"
    },
    {
     "datasetId": 6306374,
     "sourceId": 10204898,
     "sourceType": "datasetVersion"
    }
   ],
   "dockerImageVersionId": 30805,
   "isGpuEnabled": true,
   "isInternetEnabled": true,
   "language": "python",
   "sourceType": "notebook"
  },
  "kernelspec": {
   "display_name": "Python 3",
   "language": "python",
   "name": "python3"
  },
  "language_info": {
   "codemirror_mode": {
    "name": "ipython",
    "version": 3
   },
   "file_extension": ".py",
   "mimetype": "text/x-python",
   "name": "python",
   "nbconvert_exporter": "python",
   "pygments_lexer": "ipython3",
   "version": "3.10.14"
  },
  "papermill": {
   "default_parameters": {},
   "duration": 11949.604575,
   "end_time": "2024-12-15T11:48:00.985833",
   "environment_variables": {},
   "exception": null,
   "input_path": "__notebook__.ipynb",
   "output_path": "__notebook__.ipynb",
   "parameters": {},
   "start_time": "2024-12-15T08:28:51.381258",
   "version": "2.6.0"
  }
 },
 "nbformat": 4,
 "nbformat_minor": 5
}
